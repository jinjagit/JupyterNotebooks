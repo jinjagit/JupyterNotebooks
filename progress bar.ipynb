{
 "cells": [
  {
   "cell_type": "code",
   "execution_count": null,
   "metadata": {},
   "outputs": [
    {
     "name": "stdout",
     "output_type": "stream",
     "text": [
      "Progress bar: Does not work well for less than 200 repetitions.\n",
      "Progress bar: 2,000,000 < repetitions < 20,000,000 = good for this example.\n",
      "\n",
      "Enter number of MILLIONS of repetitions (integer): 500\n",
      "\n",
      "working...\n",
      "0%                                              50%                                               100%\n",
      "██████████████████████████████"
     ]
    }
   ],
   "source": [
    "import numpy as np\n",
    "import time\n",
    "\n",
    "def progress_bar(n):\n",
    "    if n == 1:\n",
    "        \n",
    "        print(\"working...\")\n",
    "        print(\"0%                                              50%                                               100%\")\n",
    "    if n < 100:\n",
    "        print(u\"\\u2588\", end='')\n",
    "    if n == 100:\n",
    "        print(u\"\\u2588\", end='')\n",
    "\n",
    "def parse_seconds(n):\n",
    "    seconds = n % 60\n",
    "    mins = (n - seconds) / 60\n",
    "    print(\" time taken: %d m %d s\" % (mins, seconds))\n",
    "\n",
    "print(\"Progress bar: Does not work well for less than 200 repetitions.\")\n",
    "print(\"Progress bar: 2,000,000 < repetitions < 20,000,000 = good for this example.\\n\")\n",
    "        \n",
    "reps = int(input(\"Enter number of MILLIONS of repetitions (integer): \"))\n",
    "print()\n",
    "reps = reps * 1000000\n",
    "\n",
    "counter = 0               # <- Need from here...\n",
    "n = 0\n",
    "start = int(time.time())  # <- timer\n",
    "for j in range (0, reps):\n",
    "    counter = counter + 1\n",
    "    if j == 0:\n",
    "        progress_bar(1)\n",
    "        n = n + 1\n",
    "    if counter >= reps / 100:\n",
    "        n = n + 1\n",
    "        progress_bar(n)\n",
    "        counter = 0       # <- to here included in whatever loop needs a progress bar\n",
    "\n",
    "    a = 57.683**3\n",
    "    a = a**(1.0/3.0)\n",
    "    \n",
    "elapsed = int(time.time()) - start  # <- timer\n",
    "parse_seconds(elapsed)              # <- timer\n",
    "\n",
    "# ---------------- extra time stuff for reference -------------------\n",
    "\n",
    "#print()\n",
    "#print(\"time.time(): %f \" %  time.time())\n",
    "#print(time.localtime( time.time() ))\n",
    "#print(time.asctime( time.localtime(time.time()) ))"
   ]
  },
  {
   "cell_type": "code",
   "execution_count": null,
   "metadata": {
    "collapsed": true
   },
   "outputs": [],
   "source": []
  }
 ],
 "metadata": {
  "kernelspec": {
   "display_name": "Python 3",
   "language": "python",
   "name": "python3"
  },
  "language_info": {
   "codemirror_mode": {
    "name": "ipython",
    "version": 3
   },
   "file_extension": ".py",
   "mimetype": "text/x-python",
   "name": "python",
   "nbconvert_exporter": "python",
   "pygments_lexer": "ipython3",
   "version": "3.6.3"
  }
 },
 "nbformat": 4,
 "nbformat_minor": 2
}
