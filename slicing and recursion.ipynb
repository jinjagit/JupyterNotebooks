{
 "cells": [
  {
   "cell_type": "markdown",
   "metadata": {},
   "source": [
    "Having tried to understand `egcd()` from [this tutorial](https://discuss.codechef.com/questions/20842/a-tutorial-on-the-extended-euclids-algorithm), and failed, (though I understand the Extended Euclidian Algorithm it solves), I have at least realised it is a recursive function (it calls itself).<br>\n",
    "<br>\n",
    "Here is the function in question:"
   ]
  },
  {
   "cell_type": "code",
   "execution_count": null,
   "metadata": {
    "collapsed": true
   },
   "outputs": [],
   "source": [
    "def egcd(a, b):\n",
    "    if a == 0:\n",
    "        return (b, 0, 1)\n",
    "    else:\n",
    "        g, y, x = egcd(b % a, a)\n",
    "        return (g, x - (b // a) * y, y)\n",
    "    \n",
    "print(egcd(1180, 482))"
   ]
  },
  {
   "cell_type": "markdown",
   "metadata": {},
   "source": [
    "I have found what looks like a very [thorough explanation of recursive functions in python](https://stackoverflow.com/questions/30214531/basics-of-recursion-in-python), which also points to a need to first understand slicing in Python, which is explained [here](https://stackoverflow.com/questions/509211/understanding-pythons-slice-notation/509295#509295).<br>\n",
    "<br>\n",
    "So, I will start with slicing.<br>\n",
    "### Slicing:\n",
    "Slice has **only one form:**<br>\n",
    "<br>\n",
    "`s[start:end:step]`\n",
    "- `s`: an object that can be sliced\n",
    "- `start`: first index to start iteration\n",
    "- `end`: last index, NOTE that end index will not be included in the resulted slice\n",
    "- `step`: pick element every step index<br>\n",
    "<br>\n",
    "Any, or all, of 'start,' 'end,' and/or 'step' can be omitted! If omitted, their default values will be used: 0, len(s), 1 accordingly."
   ]
  },
  {
   "cell_type": "code",
   "execution_count": null,
   "metadata": {
    "collapsed": true
   },
   "outputs": [],
   "source": [
    "my_list = ['A', 'B', 'C', 'D', 'E', 'F']\n",
    "\n",
    "my_slice = my_list[0:6:2] # start = 0, end = 6 (so, actually at index 5, as (len(my-list) = 6) - 1 = 5, step = 2\n",
    "print (my_slice)"
   ]
  },
  {
   "cell_type": "markdown",
   "metadata": {},
   "source": [
    "Below are some nice examples based on [examples found on stackoverflow](https://stackoverflow.com/questions/509211/understanding-pythons-slice-notation/509295#509295):"
   ]
  },
  {
   "cell_type": "code",
   "execution_count": null,
   "metadata": {
    "collapsed": true
   },
   "outputs": [],
   "source": [
    "# slicing examples, s[start:end:step]:\n",
    "\n",
    "s = [i for i in range(10)]\n",
    "\n",
    "print(\"s         = \", end=''); print(s, end=''); print(\" N.B. values = indices, in this case\")\n",
    "print(\"s[2:]     = from index 2 to last index = \", end=''); print(s[2:])\n",
    "print(\"s[:8]     = from index 0 up to index 8 = \", end=''); print(s[:8])\n",
    "print(\"s[4:7]    = from index 4 (included) up to index 7 (excluded) = \", end=''); print(s[4:7])\n",
    "print(\"s[:-2]    = up to second last index (negative index) = \", end=''); print(s[:-2])\n",
    "print(\"s[-2:]    = from second last index (negative index) = \", end=''); print(s[-2:])\n",
    "print(\"s[::-1]   = from last to first in reverse order (negative step) = \", end=''); print(s[::-1])\n",
    "print(\"s[::-2]   = every other index in reversed order = \", end=''); print(s[::-2])\n",
    "print(\"s[-2::-2] = every other index in reversed order, staring from index 2nd from last = \", end=''); print(s[-2::-2])\n",
    "print(\"s[3:15]   = end is out of range, python will set it to len(s) = \", end=''); print(s[3:15])\n",
    "print(\"s[5:1]    = start > end, return empty list = \", end=''); print(s[5:1])\n",
    "print(\"s[11]     = access index 11(greater than len(s)) will raise IndexError = \", end=''); print(s[11])"
   ]
  },
  {
   "cell_type": "markdown",
   "metadata": {},
   "source": [
    "Ok, so slicing is a neat way to slice (and/or reorganize) lists in various ways. Very useful and succinct!\n",
    "\n",
    "### Recursion:\n",
    "Based on [example on stackoverflow](https://stackoverflow.com/questions/30214531/basics-of-recursion-in-python):\n",
    "\n",
    "If we wish to write a function `listSum()` that takes a list of integers and returns the sum of all integers in the list, such that:<br>\n",
    "`listSum([1,3,4,5,6]) = 19`<br>\n",
    "<br>\n",
    "Then the non-recursive iteration would be something like this:"
   ]
  },
  {
   "cell_type": "code",
   "execution_count": null,
   "metadata": {
    "collapsed": true
   },
   "outputs": [],
   "source": [
    "def listSum(ls):\n",
    "    i = 0\n",
    "    s = 0\n",
    "    while i < len(ls):\n",
    "        s = s + ls[i]\n",
    "        i = i + 1\n",
    "    return s\n",
    "\n",
    "ls = [1, 3, 4, 5, 6]\n",
    "print(listSum(ls))"
   ]
  },
  {
   "cell_type": "markdown",
   "metadata": {},
   "source": [
    "Whenever facing a problem like this, expressing the result of the function with the same function is a good start.<br>\n",
    "<br>\n",
    "In this case, the result can be obtained by adding the first number with the result of calling the same function with rest of the elements in the list.<br>\n",
    "<br>\n",
    "For example,<br>\n",
    "<br>\n",
    "  `listSum([1, 3, 4, 5, 6]) = 1 + listSum([3, 4, 5, 6])`<br>\n",
    "  `\"                        = 1 + (3 + listSum([4, 5, 6]))`<br>\n",
    "  `\"                        = 1 + (3 + (4 + listSum([5, 6])))`<br>\n",
    "  `\"                        = 1 + (3 + (4 + (5 + listSum([6]))))`<br>\n",
    "  `\"                        = 1 + (3 + (4 + (5 + (6 + listSum([])))))`<br>\n",
    "<br>\n",
    "Now, what should be the result of `listSum([])`? It should be 0. That is called the **base condition** of the recursion. When the base condition is met, the recursion will come to an end.<br>\n",
    "<br>\n",
    "I'm still not quite sure why the function wouldn't stop calling itself when it calls and finds there are no more list items, but obviously it doesn't, and therefore we need a break condition that returns a 0 value to satisfy the last recursive function call, and _then_ Python 'knows' it can return the earlier return call made by the first run of the function.<br>\n",
    "<br>\n",
    "Now, lets try to implement it.<br>\n",
    "<br>\n",
    "The main thing here is, splitting the list. Slicing can do this."
   ]
  },
  {
   "cell_type": "code",
   "execution_count": null,
   "metadata": {
    "collapsed": true
   },
   "outputs": [],
   "source": [
    "def listSum(ls):\n",
    "    if not ls: # Base condition\n",
    "        return 0\n",
    "\n",
    "    return ls[0] + listSum(ls[1:]) # First element + result of calling listSum() with rest of the elements\n",
    " \n",
    "listSum([1, 3, 4, 5, 6])"
   ]
  },
  {
   "cell_type": "markdown",
   "metadata": {},
   "source": [
    "<center><img src=diagrams/recursion1.svg / ></center>"
   ]
  },
  {
   "cell_type": "markdown",
   "metadata": {},
   "source": [
    "The key thing here (that took me a while to see) is that the function adds ls[0] to a recursion of the function itself. Since the recursive calls are each given a copy the list that was previously passed into the function, but _with one less item in the list_ each recursion, (since each recursion starts with a copy of the list, starting from the _second_ list item), ls[0] is effectively the next item from the original list (actually from a shortened copy of the original list) for each recursion (and the copy of the list is 1 item shorter each recursion).\n",
    "\n",
    "So, it appears (through experimentation) that the value returned by the if condition (base condition), 0 in this case, is added to the result (when the base condition is met, which is when listSum is called on an empty list). The base condition also returns '0' and _does not call `ListSum()` (itself)_, thus halting the recursion.<br>\n",
    "<br>\n",
    "\n",
    "If I'm right, then using a multiplicative operation in the main operation (not base condition)mean that varying the return from the base condition multiplies the result accordingly:"
   ]
  },
  {
   "cell_type": "code",
   "execution_count": null,
   "metadata": {
    "collapsed": true
   },
   "outputs": [],
   "source": [
    "def listMult(ls):\n",
    "    if not ls: # Base condition\n",
    "        return 1\n",
    "\n",
    "    return ls[0] * listMult(ls[1:]) # First element + result of calling listMult() on the rest of the elements\n",
    " \n",
    "listMult([2, 3, 4])"
   ]
  },
  {
   "cell_type": "markdown",
   "metadata": {},
   "source": [
    "Yup, confirmed. Changing 'return 1' in the base condition to 'return 2' in the example, above, outputs 48, whcih is exactly 2 times the correct answer of 24.<br>\n",
    "<br>\n",
    "Thus, when using the slicing method above, it is important that the value returned from the base condition does not change the result already arrived at (thus, adding 0 to an additive recursion, and multiplying by 1 for a multiplicativce recursion).<br>\n",
    "#### Tail Call Recursion\n",
    "Now we understand how the above recursion works, we can try to make it a little bit better. Now, to find the actual result, we are depending on the value of the previous function also. The return statement cannot immediately return the value till the recursive call returns a result. We can avoid this by, passing the current result to the function parameter. Let's try this on our previous `listSum()` example:"
   ]
  },
  {
   "cell_type": "code",
   "execution_count": null,
   "metadata": {
    "collapsed": true
   },
   "outputs": [],
   "source": [
    "def listSum(ls, result):\n",
    "    if not ls:\n",
    "        return result\n",
    "    return listSum(ls[1:], result + ls[0])\n",
    "\n",
    "listSum([1, 3, 4, 5, 6], 0)"
   ]
  },
  {
   "cell_type": "markdown",
   "metadata": {},
   "source": [
    "Now the function requires 2 parameters, not just the list.<br>\n",
    "<br>\n",
    "We now also pass what the initial value of the sum to be is into the parameters, which, in this case, is zero in  `listSum([1, 3, 4, 5, 6], 0)`, so that for the function `listSum(ls, result)`, `ls = [1, 3, 4, 5, 6]`, and `result = 0`.<br>\n",
    "<br>\n",
    "Then, when the base condition is met, we are actually accumulating the sum in the result parameter, so we return it.<br>\n",
    "<br>\n",
    "Now, the last return statement has `listSum(ls[1:], result + ls[0])`, where we add the first element to the current result and pass it again to the recursive call.<br>\n",
    "<br>\n",
    "<br>\n",
    "<br>\n",
    "This might be a good time to understand Tail Call. It would not be relevant to Python, as it doesn't do Tail call optimization."
   ]
  },
  {
   "cell_type": "code",
   "execution_count": null,
   "metadata": {
    "collapsed": true
   },
   "outputs": [],
   "source": []
  }
 ],
 "metadata": {
  "kernelspec": {
   "display_name": "Python 3",
   "language": "python",
   "name": "python3"
  },
  "language_info": {
   "codemirror_mode": {
    "name": "ipython",
    "version": 3
   },
   "file_extension": ".py",
   "mimetype": "text/x-python",
   "name": "python",
   "nbconvert_exporter": "python",
   "pygments_lexer": "ipython3",
   "version": "3.6.3"
  }
 },
 "nbformat": 4,
 "nbformat_minor": 2
}
