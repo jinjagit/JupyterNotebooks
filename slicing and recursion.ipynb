{
 "cells": [
  {
   "cell_type": "markdown",
   "metadata": {},
   "source": [
    "Having tried to understand ecgd() from [this tutorial](https://discuss.codechef.com/questions/20842/a-tutorial-on-the-extended-euclids-algorithm), and failed, (though I understand the Extended Euclidian Algorithm it solves), I have at least realised it is a recursive function (it calls itself).<br>\n",
    "<br>\n",
    "Here is the function in question:"
   ]
  },
  {
   "cell_type": "code",
   "execution_count": 1,
   "metadata": {},
   "outputs": [
    {
     "name": "stdout",
     "output_type": "stream",
     "text": [
      "(2, -29, 71)\n"
     ]
    }
   ],
   "source": [
    "def egcd(a, b):\n",
    "    if a == 0:\n",
    "        return (b, 0, 1)\n",
    "    else:\n",
    "        g, y, x = egcd(b % a, a)\n",
    "        return (g, x - (b // a) * y, y)\n",
    "    \n",
    "print(egcd(1180, 482))"
   ]
  },
  {
   "cell_type": "markdown",
   "metadata": {},
   "source": [
    "I have found what looks like a very [thorough explanation of recursive functions in python](https://stackoverflow.com/questions/30214531/basics-of-recursion-in-python), which also points to a need to first understand slicing in Python, which is explained [here](https://stackoverflow.com/questions/509211/understanding-pythons-slice-notation/509295#509295).<br>\n",
    "<br>\n",
    "So, I will start with slicing.<br>\n",
    "### Slicing:\n",
    "Slice has **only one form:**<br>\n",
    "<br>\n",
    "s[start:end:step]\n",
    "- s: an object that can be sliced\n",
    "- start: first index to start iteration\n",
    "- end: last index, NOTE that end index will not be included in the resulted slice\n",
    "- step: pick element every step index<br>\n",
    "<br>\n",
    "Any, or all, of 'start,' 'end,' and/or 'step' can be omitted! If omitted, their default values will be used: 0, len(s), 1 accordingly."
   ]
  },
  {
   "cell_type": "code",
   "execution_count": 5,
   "metadata": {},
   "outputs": [
    {
     "name": "stdout",
     "output_type": "stream",
     "text": [
      "['A', 'C', 'E']\n"
     ]
    }
   ],
   "source": [
    "my_list = ['A', 'B', 'C', 'D', 'E', 'F']\n",
    "\n",
    "my_slice = my_list[0:6:2] # start = 0, end = 6 (so, actually at index 5, as (len(my-list) = 6) - 1 = 5, step = 2\n",
    "print (my_slice)"
   ]
  },
  {
   "cell_type": "markdown",
   "metadata": {},
   "source": [
    "Below are some nice examples based on [examples found on stackoverflow](https://stackoverflow.com/questions/509211/understanding-pythons-slice-notation/509295#509295):"
   ]
  },
  {
   "cell_type": "code",
   "execution_count": 30,
   "metadata": {},
   "outputs": [
    {
     "name": "stdout",
     "output_type": "stream",
     "text": [
      "s         = [0, 1, 2, 3, 4, 5, 6, 7, 8, 9] N.B. values = indices, in this case\n",
      "s[2:]     = from index 2 to last index = [2, 3, 4, 5, 6, 7, 8, 9]\n",
      "s[:8]     = from index 0 up to index 8 = [0, 1, 2, 3, 4, 5, 6, 7]\n",
      "s[4:7]    = from index 4 (included) up to index 7 (excluded) = [4, 5, 6]\n",
      "s[:-2]    = up to second last index (negative index) = [0, 1, 2, 3, 4, 5, 6, 7]\n",
      "s[-2:]    = from second last index (negative index) = [8, 9]\n",
      "s[::-1]   = from last to first in reverse order (negative step) = [9, 8, 7, 6, 5, 4, 3, 2, 1, 0]\n",
      "s[::-2]   = every other index in reversed order = [9, 7, 5, 3, 1]\n",
      "s[-2::-2] = every other index in reversed order, staring from index 2nd from last = [8, 6, 4, 2, 0]\n",
      "s[3:15]   = end is out of range, python will set it to len(s) = [3, 4, 5, 6, 7, 8, 9]\n",
      "s[5:1]    = start > end, return empty list = []\n",
      "s[11]     = access index 11(greater than len(s)) will raise IndexError = "
     ]
    },
    {
     "ename": "IndexError",
     "evalue": "list index out of range",
     "output_type": "error",
     "traceback": [
      "\u001b[1;31m---------------------------------------------------------------------------\u001b[0m",
      "\u001b[1;31mIndexError\u001b[0m                                Traceback (most recent call last)",
      "\u001b[1;32m<ipython-input-30-81a0f5a967cc>\u001b[0m in \u001b[0;36m<module>\u001b[1;34m()\u001b[0m\n\u001b[0;32m     14\u001b[0m \u001b[0mprint\u001b[0m\u001b[1;33m(\u001b[0m\u001b[1;34m\"s[3:15]   = end is out of range, python will set it to len(s) = \"\u001b[0m\u001b[1;33m,\u001b[0m \u001b[0mend\u001b[0m\u001b[1;33m=\u001b[0m\u001b[1;34m''\u001b[0m\u001b[1;33m)\u001b[0m\u001b[1;33m;\u001b[0m \u001b[0mprint\u001b[0m\u001b[1;33m(\u001b[0m\u001b[0ms\u001b[0m\u001b[1;33m[\u001b[0m\u001b[1;36m3\u001b[0m\u001b[1;33m:\u001b[0m\u001b[1;36m15\u001b[0m\u001b[1;33m]\u001b[0m\u001b[1;33m)\u001b[0m\u001b[1;33m\u001b[0m\u001b[0m\n\u001b[0;32m     15\u001b[0m \u001b[0mprint\u001b[0m\u001b[1;33m(\u001b[0m\u001b[1;34m\"s[5:1]    = start > end, return empty list = \"\u001b[0m\u001b[1;33m,\u001b[0m \u001b[0mend\u001b[0m\u001b[1;33m=\u001b[0m\u001b[1;34m''\u001b[0m\u001b[1;33m)\u001b[0m\u001b[1;33m;\u001b[0m \u001b[0mprint\u001b[0m\u001b[1;33m(\u001b[0m\u001b[0ms\u001b[0m\u001b[1;33m[\u001b[0m\u001b[1;36m5\u001b[0m\u001b[1;33m:\u001b[0m\u001b[1;36m1\u001b[0m\u001b[1;33m]\u001b[0m\u001b[1;33m)\u001b[0m\u001b[1;33m\u001b[0m\u001b[0m\n\u001b[1;32m---> 16\u001b[1;33m \u001b[0mprint\u001b[0m\u001b[1;33m(\u001b[0m\u001b[1;34m\"s[11]     = access index 11(greater than len(s)) will raise IndexError = \"\u001b[0m\u001b[1;33m,\u001b[0m \u001b[0mend\u001b[0m\u001b[1;33m=\u001b[0m\u001b[1;34m''\u001b[0m\u001b[1;33m)\u001b[0m\u001b[1;33m;\u001b[0m \u001b[0mprint\u001b[0m\u001b[1;33m(\u001b[0m\u001b[0ms\u001b[0m\u001b[1;33m[\u001b[0m\u001b[1;36m11\u001b[0m\u001b[1;33m]\u001b[0m\u001b[1;33m)\u001b[0m\u001b[1;33m\u001b[0m\u001b[0m\n\u001b[0m",
      "\u001b[1;31mIndexError\u001b[0m: list index out of range"
     ]
    }
   ],
   "source": [
    "# slicing examples, s[start:end:step]:\n",
    "\n",
    "s = [i for i in range(10)]\n",
    "\n",
    "print(\"s         = \", end=''); print(s, end=''); print(\" N.B. values = indices, in this case\")\n",
    "print(\"s[2:]     = from index 2 to last index = \", end=''); print(s[2:])\n",
    "print(\"s[:8]     = from index 0 up to index 8 = \", end=''); print(s[:8])\n",
    "print(\"s[4:7]    = from index 4 (included) up to index 7 (excluded) = \", end=''); print(s[4:7])\n",
    "print(\"s[:-2]    = up to second last index (negative index) = \", end=''); print(s[:-2])\n",
    "print(\"s[-2:]    = from second last index (negative index) = \", end=''); print(s[-2:])\n",
    "print(\"s[::-1]   = from last to first in reverse order (negative step) = \", end=''); print(s[::-1])\n",
    "print(\"s[::-2]   = every other index in reversed order = \", end=''); print(s[::-2])\n",
    "print(\"s[-2::-2] = every other index in reversed order, staring from index 2nd from last = \", end=''); print(s[-2::-2])\n",
    "print(\"s[3:15]   = end is out of range, python will set it to len(s) = \", end=''); print(s[3:15])\n",
    "print(\"s[5:1]    = start > end, return empty list = \", end=''); print(s[5:1])\n",
    "print(\"s[11]     = access index 11(greater than len(s)) will raise IndexError = \", end=''); print(s[11])"
   ]
  },
  {
   "cell_type": "markdown",
   "metadata": {},
   "source": [
    "Ok, so slicing is a neat way to slice (and/or reorganize) lists in various ways. Very useful and succinct!\n",
    "\n",
    "### Recursion:\n",
    "Based on [example on stackoverflow](https://stackoverflow.com/questions/30214531/basics-of-recursion-in-python):\n",
    "\n",
    "If we wish to write a function \"listSum\" that takes a list of integers and returns the sum of all integers in the list\", such that:<br>\n",
    "listSum([1,3,4,5,6]) = 19<br>\n",
    "<br>\n",
    "Then the non-recursive iteration would be something like this:"
   ]
  },
  {
   "cell_type": "code",
   "execution_count": 35,
   "metadata": {},
   "outputs": [
    {
     "name": "stdout",
     "output_type": "stream",
     "text": [
      "19\n"
     ]
    }
   ],
   "source": [
    "def listSum(ls):\n",
    "    i = 0\n",
    "    s = 0\n",
    "    while i < len(ls):\n",
    "        s = s + ls[i]\n",
    "        i = i + 1\n",
    "    return s\n",
    "\n",
    "ls = [1, 3, 4, 5, 6]\n",
    "print(listSum(ls))"
   ]
  },
  {
   "cell_type": "markdown",
   "metadata": {},
   "source": [
    "Whenever facing a problem like this, expressing the result of the function with the same function is a good start.<br>\n",
    "<br>\n",
    "In this case, the result can be obtained by adding the first number with the result of calling the same function with rest of the elements in the list.<br>\n",
    "<br>\n",
    "For example,\n",
    "\n",
    "|                          |                                           |\n",
    "|--------------------------|:------------------------------------------|\n",
    "| listSum([1, 3, 4, 5, 6]) | = 1 + listSum([3, 4, 5, 6])               |\n",
    "|                          | = 1 + (3 + listSum([4, 5, 6]))            |\n",
    "|                          | = 1 + (3 + (4 + listSum([5, 6])))         |\n",
    "|                          | = 1 + (3 + (4 + (5 + listSum([6]))))      |\n",
    "|                          | = 1 + (3 + (4 + (5 + (6 + listSum([]))))) |"
   ]
  },
  {
   "cell_type": "code",
   "execution_count": null,
   "metadata": {
    "collapsed": true
   },
   "outputs": [],
   "source": []
  }
 ],
 "metadata": {
  "kernelspec": {
   "display_name": "Python 3",
   "language": "python",
   "name": "python3"
  },
  "language_info": {
   "codemirror_mode": {
    "name": "ipython",
    "version": 3
   },
   "file_extension": ".py",
   "mimetype": "text/x-python",
   "name": "python",
   "nbconvert_exporter": "python",
   "pygments_lexer": "ipython3",
   "version": "3.6.3"
  }
 },
 "nbformat": 4,
 "nbformat_minor": 2
}
