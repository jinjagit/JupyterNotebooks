{
 "cells": [
  {
   "cell_type": "markdown",
   "metadata": {},
   "source": [
    "Not pretty. Just quick versions of my C rand() LCG emulation, used to answer some questions I had.<br>\n",
    "<br>\n",
    "Does the pattern of PRNs repeat? Does the period length = mod m? Or less than / greater than mod m?"
   ]
  },
  {
   "cell_type": "code",
   "execution_count": 5,
   "metadata": {},
   "outputs": [
    {
     "name": "stdout",
     "output_type": "stream",
     "text": [
      "working...\n",
      "0%                                              50%                                               100%\n",
      "████████████████████████████████████████████████████████████████████████████████████████████████████\n",
      "First 10 PRNs generated: [250885122, 22999315, 1251123024, 1960338761, 242585166, 1472039791, 587882620, 817433861, 2006991194, 683765643]\n",
      "\n",
      "Last 10 PRNs generated:  [250885122, 22999315, 1251123024, 1960338761, 242585166, 1472039791, 587882620, 817433861, 2006991194, 683765643]\n",
      "\n",
      "time taken: 31 m 46 s\n"
     ]
    }
   ],
   "source": [
    "# Emulating rand() function in ANSI C, a linear congruential generator (LCG) generator (a type of PRNG). Fails if seed = 0.\n",
    "# Based on code from: http://pubs.opengroup.org/onlinepubs/009695399/functions/rand.html\n",
    "\n",
    "import time\n",
    "\n",
    "def progress_bar(n):\n",
    "    if n == 1:\n",
    "        print(\"working...\")\n",
    "        print(\"0%                                              50%                                               100%\")\n",
    "    if n < 100:\n",
    "        print(u\"\\u2588\", end='')\n",
    "    if n == 100:\n",
    "        print(u\"\\u2588\", end='')\n",
    "\n",
    "def parse_seconds(n):\n",
    "    seconds = n % 60\n",
    "    mins = (n - seconds) / 60\n",
    "    print(\"time taken: %d m %d s\" % (mins, seconds))\n",
    "\n",
    "get_binary = lambda x: format(x, 'b') # useful function for converting integer to binary string\n",
    "\n",
    "x = 333\n",
    "mod = 2**31\n",
    "reps = mod + 10\n",
    "\n",
    "start = int(time.time())  # <- timer\n",
    "\n",
    "keystream1 = list(range(10))\n",
    "keystream2 = list(range(10))\n",
    "\n",
    "counter = 0               # <- Need from here...\n",
    "n = 0\n",
    "\n",
    "for j in range (0, reps):\n",
    "    counter = counter + 1\n",
    "    if j == 0:\n",
    "        progress_bar(1)\n",
    "        n = n + 1\n",
    "    if counter >= reps / 100:\n",
    "        n = n + 1\n",
    "        progress_bar(n)\n",
    "        counter = 0       # <- ...to here included in whatever loop needs a progress bar\n",
    "\n",
    "    x = int((x * 1103515245 + 12345) % (2**31))\n",
    "    if j < 10:\n",
    "        keystream1[j] = x\n",
    "    elif j >= mod:\n",
    "        keystream2[j-mod] = x\n",
    "    \n",
    "print(\"\\n\\nFirst 10 PRNs: \", end='')\n",
    "print(keystream1)\n",
    "print()\n",
    "print(\"Last 10 PRNs:  \", end='')\n",
    "print(keystream2)\n",
    "print()\n",
    "elapsed = int(time.time()) - start  # <- timer\n",
    "parse_seconds(elapsed)              # <- timer"
   ]
  },
  {
   "cell_type": "markdown",
   "metadata": {
    "collapsed": true
   },
   "source": [
    "Yes, the C `rand()` emulation, with $A = 1103515245$, $B = 12345$, and $seed = 333$, repeats, with a period of $\\mod{2^{31}}$.<br>\n",
    "<br>\n",
    "Below is the output of the first 10 PRNs generated and the 10 PRNS generated after mod m PRNs have been generated.\n",
    "<br>\n",
    "Output:<br>\n",
    "<br>\n",
    "First 10 PRNs generated: [250885122, 22999315, 1251123024, 1960338761, 242585166, 1472039791, 587882620, 817433861, 2006991194, 683765643]<br>\n",
    "<br>\n",
    "Last 10 PRNs generated:  [250885122, 22999315, 1251123024, 1960338761, 242585166, 1472039791, 587882620, 817433861, 2006991194, 683765643]<br>\n",
    "<br>\n",
    "time taken: 31 m 46 s"
   ]
  },
  {
   "cell_type": "code",
   "execution_count": 21,
   "metadata": {},
   "outputs": [
    {
     "name": "stdout",
     "output_type": "stream",
     "text": [
      "working...\n",
      "0%                                              50%                                               100%\n",
      "████████████████████████████████████████████████████████████████████████████████████████████████████\n",
      "\n",
      "duplicates: 0 (in 2147483648 sequential PRNs)\n",
      "\n",
      "time taken: 31 m 51 s\n"
     ]
    }
   ],
   "source": [
    "# Emulating rand() function in ANSI C, a linear congruential generator (LCG) generator (a type of PRNG). Fails if seed = 0.\n",
    "# Based on code from: http://pubs.opengroup.org/onlinepubs/009695399/functions/rand.html\n",
    "\n",
    "import time\n",
    "\n",
    "def progress_bar(n):\n",
    "    if n == 1:\n",
    "        print(\"working...\")\n",
    "        print(\"0%                                              50%                                               100%\")\n",
    "    if n < 100:\n",
    "        print(u\"\\u2588\", end='')\n",
    "    if n == 100:\n",
    "        print(u\"\\u2588\", end='')\n",
    "\n",
    "def parse_seconds(n):\n",
    "    seconds = n % 60\n",
    "    mins = (n - seconds) / 60\n",
    "    print(\"time taken: %d m %d s\" % (mins, seconds))\n",
    "\n",
    "get_binary = lambda x: format(x, 'b') # useful function for converting integer to binary string\n",
    "\n",
    "x = 333\n",
    "mod = 2**31\n",
    "reps = mod\n",
    "\n",
    "start = int(time.time())  # <- timer\n",
    "\n",
    "counter = 0               # <- Need from here...\n",
    "n = 0\n",
    "duplicate = 0\n",
    "store = 0\n",
    "\n",
    "for j in range (0, reps):\n",
    "    counter = counter + 1\n",
    "    if j == 0:\n",
    "        progress_bar(1)\n",
    "        n = n + 1\n",
    "    if counter >= reps / 100:\n",
    "        n = n + 1\n",
    "        progress_bar(n)\n",
    "        counter = 0       # <- ...to here included in whatever loop needs a progress bar\n",
    "\n",
    "    x = int((x * 1103515245 + 12345) % (2**31))\n",
    "    if j == 0:\n",
    "        store = x\n",
    "    else:\n",
    "        if x == store:\n",
    "            duplicate += 1\n",
    "    \n",
    "print(\"\\n\\nduplicates: %d (in %d sequential PRNs)\\n\" % (duplicate, reps))\n",
    "\n",
    "elapsed = int(time.time()) - start  # <- timer\n",
    "parse_seconds(elapsed)              # <- timer"
   ]
  },
  {
   "cell_type": "markdown",
   "metadata": {},
   "source": [
    "The first generated PRN is not found again anywhere within the first mod m PRNs generated, thus there is no repetition, and thus no period before the periodicty of $\\mod{m}$.<br>\n",
    "<br>\n",
    "I have a hunch that $A$, $B$ and $\\mod{m}$ are chosen very carefully to ensure that not only does the pattern of PRNs repeat with a period of mod m, but that this also enables the pattern to include one, and only one of each of the possible integer values for the set $Z\\mod{m}$. Whilst the latter seems likely, I have not proved it (nor researched it very deeply).<br>"
   ]
  },
  {
   "cell_type": "code",
   "execution_count": 30,
   "metadata": {},
   "outputs": [
    {
     "name": "stdout",
     "output_type": "stream",
     "text": [
      "working...\n",
      "0%                                              50%                                               100%\n",
      "████████████████████████████████████████████████████████████████████████████████████████████████████\n",
      "\n",
      "doubles (double even, or double odd): 0 (in 2147483648 sequential PRNs)\n",
      "\n",
      "time taken: 60 m 3 s\n"
     ]
    }
   ],
   "source": [
    "# Emulating rand() function in ANSI C, a linear congruential generator (LCG) generator (a type of PRNG). Fails if seed = 0.\n",
    "# Based on code from: http://pubs.opengroup.org/onlinepubs/009695399/functions/rand.html\n",
    "\n",
    "import time\n",
    "\n",
    "def progress_bar(n):\n",
    "    if n == 1:\n",
    "        print(\"working...\")\n",
    "        print(\"0%                                              50%                                               100%\")\n",
    "    if n < 100:\n",
    "        print(u\"\\u2588\", end='')\n",
    "    if n == 100:\n",
    "        print(u\"\\u2588\", end='')\n",
    "\n",
    "def parse_seconds(n):\n",
    "    seconds = n % 60\n",
    "    mins = (n - seconds) / 60\n",
    "    print(\"time taken: %d m %d s\" % (mins, seconds))\n",
    "\n",
    "get_binary = lambda x: format(x, 'b') # useful function for converting integer to binary string\n",
    "\n",
    "x = 333\n",
    "mod = 2**31\n",
    "reps = mod\n",
    "\n",
    "start = int(time.time())  # <- timer\n",
    "\n",
    "counter = 0               # <- Need from here...\n",
    "n = 0\n",
    "doubles = 0\n",
    "store = \"2\"\n",
    "xbin=\"2\"\n",
    "\n",
    "for j in range (0, reps):\n",
    "    counter = counter + 1\n",
    "    if j == 0:\n",
    "        progress_bar(1)\n",
    "        n = n + 1\n",
    "    if counter >= reps / 100:\n",
    "        n = n + 1\n",
    "        progress_bar(n)\n",
    "        counter = 0       # <- ...to here included in whatever loop needs a progress bar\n",
    "\n",
    "    x = int((x * 1103515245 + 12345) % (2**31))\n",
    "    xbin = get_binary(x)\n",
    "    if xbin[-1] == store[-1]:\n",
    "        doubles += 1\n",
    "        \n",
    "    store = xbin\n",
    "\n",
    "    \n",
    "print(\"\\n\\ndoubles (double even, or double odd): %d (in %d sequential PRNs)\\n\" % (doubles, reps))\n",
    "\n",
    "elapsed = int(time.time()) - start  # <- timer\n",
    "parse_seconds(elapsed)              # <- timer"
   ]
  },
  {
   "cell_type": "code",
   "execution_count": null,
   "metadata": {
    "collapsed": true
   },
   "outputs": [],
   "source": []
  }
 ],
 "metadata": {
  "kernelspec": {
   "display_name": "Python 3",
   "language": "python",
   "name": "python3"
  },
  "language_info": {
   "codemirror_mode": {
    "name": "ipython",
    "version": 3
   },
   "file_extension": ".py",
   "mimetype": "text/x-python",
   "name": "python",
   "nbconvert_exporter": "python",
   "pygments_lexer": "ipython3",
   "version": "3.6.3"
  }
 },
 "nbformat": 4,
 "nbformat_minor": 2
}
