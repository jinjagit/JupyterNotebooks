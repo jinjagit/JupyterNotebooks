{
 "cells": [
  {
   "cell_type": "markdown",
   "metadata": {},
   "source": [
    "# Slicing and Recursion (in Python):\n",
    "This is more a study of recursion in Python, than of slicing, though the basics of slicing, and some examples of slicing in recursion, are included.<br>\n",
    "<br>\n",
    "The need to study recursion in Python stems from trying to understand `egcd()` from [this tutorial](https://discuss.codechef.com/questions/20842/a-tutorial-on-the-extended-euclids-algorithm), and failing, (though I understand the Extended Euclidian Algorithm it solves). I have, at least, realised it is a recursive function (it calls itself).<br>\n",
    "<br>\n",
    "Here is the function in question:"
   ]
  },
  {
   "cell_type": "code",
   "execution_count": 1,
   "metadata": {},
   "outputs": [
    {
     "name": "stdout",
     "output_type": "stream",
     "text": [
      "(2, -29, 71)\n"
     ]
    }
   ],
   "source": [
    "def egcd(a, b):\n",
    "    if a == 0:\n",
    "        return (b, 0, 1)\n",
    "    else:\n",
    "        g, y, x = egcd(b % a, a)\n",
    "        return (g, x - (b // a) * y, y)\n",
    "    \n",
    "print(egcd(1180, 482))"
   ]
  },
  {
   "cell_type": "markdown",
   "metadata": {},
   "source": [
    "I have found what looks like a very [thorough explanation of recursive functions in Python](https://stackoverflow.com/questions/30214531/basics-of-recursion-in-python), which also points to the benefit of first understanding slicing in Python, which is explained [here](https://stackoverflow.com/questions/509211/understanding-pythons-slice-notation/509295#509295).<br>\n",
    "<br>\n",
    "So, I will start with slicing.<br>\n",
    "## Slicing:\n",
    "Slice has **only one form:**<br>\n",
    "<br>\n",
    "`s[start:end:step]`\n",
    "- `s`: an object that can be sliced\n",
    "- `start`: first index to start iteration\n",
    "- `end`: last index, NOTE that end index will not be included in the resulted slice\n",
    "- `step`: pick element every step index<br>\n",
    "<br>\n",
    "Any, or all, of 'start,' 'end,' and/or 'step' can be omitted! If omitted, their default values will be used: 0, len(s), 1 accordingly."
   ]
  },
  {
   "cell_type": "code",
   "execution_count": 2,
   "metadata": {},
   "outputs": [
    {
     "name": "stdout",
     "output_type": "stream",
     "text": [
      "['A', 'C', 'E']\n"
     ]
    }
   ],
   "source": [
    "my_list = ['A', 'B', 'C', 'D', 'E', 'F']\n",
    "\n",
    "my_slice = my_list[0:6:2] # start = 0, end = 6 (so, actually at index 5, as (len(my_list) = 6) - 1 = 5, step = 2\n",
    "print (my_slice)"
   ]
  },
  {
   "cell_type": "markdown",
   "metadata": {},
   "source": [
    "Below are some nice examples based on [examples found on stackoverflow](https://stackoverflow.com/questions/509211/understanding-pythons-slice-notation/509295#509295):"
   ]
  },
  {
   "cell_type": "code",
   "execution_count": 18,
   "metadata": {},
   "outputs": [
    {
     "name": "stdout",
     "output_type": "stream",
     "text": [
      "s[:]      = copy entire list (N.B. values = indices, in this example)              = [0, 1, 2, 3, 4, 5, 6, 7, 8, 9]\n",
      "s[2:]     = from index 2 to last index                                             = [2, 3, 4, 5, 6, 7, 8, 9]\n",
      "s[:8]     = from index 0 up to index 8                                             = [0, 1, 2, 3, 4, 5, 6, 7]\n",
      "s[4:7]    = from index 4 (included) up to index 7 (excluded)                       = [4, 5, 6]\n",
      "s[:-2]    = up to second last index (negative index)                               = [0, 1, 2, 3, 4, 5, 6, 7]\n",
      "s[-2:]    = from second last index (negative index)                                = [8, 9]\n",
      "s[::-1]   = from last to first in reverse order (negative step)                    = [9, 8, 7, 6, 5, 4, 3, 2, 1, 0]\n",
      "s[::-2]   = every other index in reversed order                                    = [9, 7, 5, 3, 1]\n",
      "s[-2::-2] = every other index in reversed order, starting from index 2nd from last = [8, 6, 4, 2, 0]\n",
      "s[3:15]   = end is out of range, python will set it to len(s)                      = [3, 4, 5, 6, 7, 8, 9]\n",
      "s[5:1]    = start > end, return empty list                                         = []\n",
      "s[11]     = access index 11(greater than len(s))                                   = raise IndexError:"
     ]
    },
    {
     "ename": "IndexError",
     "evalue": "list index out of range",
     "output_type": "error",
     "traceback": [
      "\u001b[1;31m---------------------------------------------------------------------------\u001b[0m",
      "\u001b[1;31mIndexError\u001b[0m                                Traceback (most recent call last)",
      "\u001b[1;32m<ipython-input-18-87c657ec1a84>\u001b[0m in \u001b[0;36m<module>\u001b[1;34m()\u001b[0m\n\u001b[0;32m     14\u001b[0m \u001b[0mprint\u001b[0m\u001b[1;33m(\u001b[0m\u001b[1;34m\"s[3:15]   = end is out of range, python will set it to len(s)                      = \"\u001b[0m\u001b[1;33m,\u001b[0m \u001b[0mend\u001b[0m\u001b[1;33m=\u001b[0m\u001b[1;34m''\u001b[0m\u001b[1;33m)\u001b[0m\u001b[1;33m;\u001b[0m \u001b[0mprint\u001b[0m\u001b[1;33m(\u001b[0m\u001b[0ms\u001b[0m\u001b[1;33m[\u001b[0m\u001b[1;36m3\u001b[0m\u001b[1;33m:\u001b[0m\u001b[1;36m15\u001b[0m\u001b[1;33m]\u001b[0m\u001b[1;33m)\u001b[0m\u001b[1;33m\u001b[0m\u001b[0m\n\u001b[0;32m     15\u001b[0m \u001b[0mprint\u001b[0m\u001b[1;33m(\u001b[0m\u001b[1;34m\"s[5:1]    = start > end, return empty list                                         = \"\u001b[0m\u001b[1;33m,\u001b[0m \u001b[0mend\u001b[0m\u001b[1;33m=\u001b[0m\u001b[1;34m''\u001b[0m\u001b[1;33m)\u001b[0m\u001b[1;33m;\u001b[0m \u001b[0mprint\u001b[0m\u001b[1;33m(\u001b[0m\u001b[0ms\u001b[0m\u001b[1;33m[\u001b[0m\u001b[1;36m5\u001b[0m\u001b[1;33m:\u001b[0m\u001b[1;36m1\u001b[0m\u001b[1;33m]\u001b[0m\u001b[1;33m)\u001b[0m\u001b[1;33m\u001b[0m\u001b[0m\n\u001b[1;32m---> 16\u001b[1;33m \u001b[0mprint\u001b[0m\u001b[1;33m(\u001b[0m\u001b[1;34m\"s[11]     = access index 11(greater than len(s))                                   = raise IndexError:\"\u001b[0m\u001b[1;33m,\u001b[0m \u001b[0mend\u001b[0m\u001b[1;33m=\u001b[0m\u001b[1;34m''\u001b[0m\u001b[1;33m)\u001b[0m\u001b[1;33m;\u001b[0m \u001b[0mprint\u001b[0m\u001b[1;33m(\u001b[0m\u001b[0ms\u001b[0m\u001b[1;33m[\u001b[0m\u001b[1;36m11\u001b[0m\u001b[1;33m]\u001b[0m\u001b[1;33m)\u001b[0m\u001b[1;33m\u001b[0m\u001b[0m\n\u001b[0m",
      "\u001b[1;31mIndexError\u001b[0m: list index out of range"
     ]
    }
   ],
   "source": [
    "# slicing examples, s[start:end:step]:\n",
    "\n",
    "s = [i for i in range(10)]\n",
    "\n",
    "print(\"s[:]      = copy entire list (N.B. values = indices, in this example)              = \", end=''); print(s[:])\n",
    "print(\"s[2:]     = from index 2 to last index                                             = \", end=''); print(s[2:])\n",
    "print(\"s[:8]     = from index 0 up to index 8                                             = \", end=''); print(s[:8])\n",
    "print(\"s[4:7]    = from index 4 (included) up to index 7 (excluded)                       = \", end=''); print(s[4:7])\n",
    "print(\"s[:-2]    = up to second last index (negative index)                               = \", end=''); print(s[:-2])\n",
    "print(\"s[-2:]    = from second last index (negative index)                                = \", end=''); print(s[-2:])\n",
    "print(\"s[::-1]   = from last to first in reverse order (negative step)                    = \", end=''); print(s[::-1])\n",
    "print(\"s[::-2]   = every other index in reversed order                                    = \", end=''); print(s[::-2])\n",
    "print(\"s[-2::-2] = every other index in reversed order, starting from index 2nd from last = \", end=''); print(s[-2::-2])\n",
    "print(\"s[3:15]   = end is out of range, python will set it to len(s)                      = \", end=''); print(s[3:15])\n",
    "print(\"s[5:1]    = start > end, return empty list                                         = \", end=''); print(s[5:1])\n",
    "print(\"s[11]     = access index 11(greater than len(s))                                   = raise IndexError:\", end=''); print(s[11])"
   ]
  },
  {
   "cell_type": "markdown",
   "metadata": {},
   "source": [
    "Ok, so slicing is a neat way to slice (and/or reorganize) lists in various ways. Very useful and succinct!\n",
    "\n",
    "## Recursion:\n",
    "Based on [example on stackoverflow](https://stackoverflow.com/questions/30214531/basics-of-recursion-in-python):\n",
    "\n",
    "If we wish to write a function `listSum()` that takes a list of integers and returns the sum of all integers in the list, such that:<br>\n",
    "`listSum([1,3,4,5,6]) = 19`<br>\n",
    "<br>\n",
    "Then the non-recursive iteration is something like this:"
   ]
  },
  {
   "cell_type": "code",
   "execution_count": 4,
   "metadata": {},
   "outputs": [
    {
     "name": "stdout",
     "output_type": "stream",
     "text": [
      "19\n"
     ]
    }
   ],
   "source": [
    "def listSum(ls):\n",
    "    i = 0\n",
    "    s = 0\n",
    "    while i < len(ls):\n",
    "        s = s + ls[i]\n",
    "        i = i + 1\n",
    "    return s\n",
    "\n",
    "ls = [1, 3, 4, 5, 6]\n",
    "print(listSum(ls))"
   ]
  },
  {
   "cell_type": "markdown",
   "metadata": {},
   "source": [
    "Whenever facing a problem like this, expressing the result of the function with the same function is a good start.<br>\n",
    "<br>\n",
    "In this case, the result can be obtained by adding the first number with the result of calling the same function with rest of the elements in the list.<br>\n",
    "<br>\n",
    "For example,<br>\n",
    "<br>\n",
    "`listSum([1, 3, 4, 5, 6]) = 1 + listSum([3, 4, 5, 6])\n",
    "                         = 1 + (3 + listSum([4, 5, 6]))\n",
    "                         = 1 + (3 + (4 + listSum([5, 6])))\n",
    "                         = 1 + (3 + (4 + (5 + listSum([6]))))\n",
    "                         = 1 + (3 + (4 + (5 + (6 + listSum([])))))`<br>\n",
    "<br>\n",
    "Now, what should be the result of `listSum([])`? It should be 0. That is called the **base condition** of the recursion. When the base condition is met, the recursion will come to an end.<br>\n",
    "<br>\n",
    "I'm still not quite sure why the function wouldn't stop calling itself when it calls and finds there are no more list items, but obviously it doesn't, and therefore we need a break condition that returns a 0 value to satisfy the last recursive function call, and _then_ Python 'knows' it can return the earlier return call made by the first run of the function.<br>\n",
    "<br>\n",
    "Now, lets try to implement it.<br>\n",
    "<br>\n",
    "The main thing here is, splitting the list. Slicing can do this.<br>\n",
    "### Simple Version:"
   ]
  },
  {
   "cell_type": "code",
   "execution_count": 5,
   "metadata": {},
   "outputs": [
    {
     "data": {
      "text/plain": [
       "19"
      ]
     },
     "execution_count": 5,
     "metadata": {},
     "output_type": "execute_result"
    }
   ],
   "source": [
    "def listSum(ls):\n",
    "    if not ls: # Base condition\n",
    "        return 0\n",
    "\n",
    "    return ls[0] + listSum(ls[1:]) # First element + result of calling listSum() with rest of the elements\n",
    " \n",
    "listSum([1, 3, 4, 5, 6])"
   ]
  },
  {
   "cell_type": "markdown",
   "metadata": {},
   "source": [
    "<center><img src=diagrams/recursion1.svg / ></center>"
   ]
  },
  {
   "cell_type": "markdown",
   "metadata": {},
   "source": [
    "The key thing here (that took me a while to see) is that the function adds ls[0] to a recursion of the function itself. Since the recursive calls are each given a copy of the list that was previously passed into the function, but _with one less item in the list_ for each recursion, (since each recursion starts with a copy of the list, starting with the _second_ list item), ls[0] is effectively the next item from the original list (actually from a shortened copy of the original list) for each recursion (and the copy of the list is 1 item shorter each recursion).\n",
    "\n",
    "So, it appears (through experimentation) that the value returned by the if condition (base condition), 0 in this case, is added to the result (when the base condition is met, which is when listSum is called on an empty list). The base condition also returns '0' and _does not call `ListSum()` (itself)_, thus halting the recursion.<br>\n",
    "<br>\n",
    "\n",
    "If I'm right, then using a multiplicative operation in the main operation (not base condition)mean that varying the return from the base condition multiplies the result accordingly:\n",
    "### Simple Version (multiplicative variation):"
   ]
  },
  {
   "cell_type": "code",
   "execution_count": 6,
   "metadata": {},
   "outputs": [
    {
     "data": {
      "text/plain": [
       "24"
      ]
     },
     "execution_count": 6,
     "metadata": {},
     "output_type": "execute_result"
    }
   ],
   "source": [
    "def listMult(ls):\n",
    "    if not ls: # Base condition\n",
    "        return 1\n",
    "\n",
    "    return ls[0] * listMult(ls[1:]) # First element + result of calling listMult() on the rest of the elements\n",
    " \n",
    "listMult([2, 3, 4])"
   ]
  },
  {
   "cell_type": "markdown",
   "metadata": {},
   "source": [
    "Yup, confirmed. Changing '`return 1`' in the base condition to '`return 2`', for example, in the code above, outputs 48, which is 2 times the correct answer of 24.<br>\n",
    "<br>\n",
    "Thus, when using the slicing method above, it is important that the value returned from the base condition does not change the result already arrived at (thus, adding 0 to an additive recursion, and multiplying by 1 for a multiplicativce recursion).<br>\n",
    "### Tail Call Recursion:\n",
    "Now we understand how the above recursion works, we can try to make it a little bit better. Now, to find the actual result, we are depending on the value of the previous function also. The return statement cannot immediately return the value till the recursive call returns a result. We can avoid this by, passing the current result to the function parameter. Let's try this on our previous `listSum()` example:"
   ]
  },
  {
   "cell_type": "code",
   "execution_count": 7,
   "metadata": {},
   "outputs": [
    {
     "data": {
      "text/plain": [
       "19"
      ]
     },
     "execution_count": 7,
     "metadata": {},
     "output_type": "execute_result"
    }
   ],
   "source": [
    "def listSum(ls, result):\n",
    "    if not ls:\n",
    "        return result\n",
    "    return listSum(ls[1:], result + ls[0])\n",
    "\n",
    "listSum([1, 3, 4, 5, 6], 0)"
   ]
  },
  {
   "cell_type": "markdown",
   "metadata": {},
   "source": [
    "<center><img src=diagrams/recursion2.svg / ></center>"
   ]
  },
  {
   "cell_type": "markdown",
   "metadata": {},
   "source": [
    "Now the function requires 2 parameters, not just the list. i.e. `(ls, result)`<br>\n",
    "<br>\n",
    "We now also start by passing into the function the initial value of the sum as one of two parameters, which, in this case, is `result`, which is zero in  `listSum([1, 3, 4, 5, 6], 0)`, so that for the function, initially, `listSum(ls, result)`, `ls = [1, 3, 4, 5, 6]`, and `result = 0`.<br>\n",
    "<br>\n",
    "Now, the recursive return statement has `listSum(ls[1:], result + ls[0])`, where we add the first element to the current `result` and pass it again to the recursive call as `result`, along with a copy of the copy of the list `ls` with the first list item removed as `ls`.<br>\n",
    "<br>\n",
    "Then, when the base condition is met, we return the `result` parameter as the output of the function, since we have been accumulating the sum in the `result` variable.<br>\n",
    "<br>\n",
    "This results in one less function call than the previous example because we no longer need to provide `ls[0] = 0` to a final recursive call of the function. We no longer need to satisfy the final recursive call because each return has been completed by each recursion, so there is no 'incomplete' return call to complete and we can simply return the `result` variable when the base condition is met.<br>\n",
    "<br>\n",
    "This might be a good time to understand Tail Call. It would not be relevant to Python, as it doesn't do Tail call optimization."
   ]
  },
  {
   "cell_type": "markdown",
   "metadata": {
    "collapsed": true
   },
   "source": [
    "### Passing Around Index Version:\n",
    "Can we avoid creating so many intermediate lists?\n",
    "\n",
    "Yes. We just need the index of the item to be processed next. But now, the base condition will be different. Since we are going to be passing an index, how will we determine how the entire list has been processed? Well, if the index equals the length of the list, then we have processed all the elements in it:"
   ]
  },
  {
   "cell_type": "code",
   "execution_count": 8,
   "metadata": {},
   "outputs": [
    {
     "data": {
      "text/plain": [
       "19"
      ]
     },
     "execution_count": 8,
     "metadata": {},
     "output_type": "execute_result"
    }
   ],
   "source": [
    "def listSum(ls, index, result):\n",
    "    if index == len(ls):  # Base condition\n",
    "        return result\n",
    "    \n",
    "    return listSum(ls, index + 1, result + ls[index])  # Call with next index and add the current element to result\n",
    "\n",
    "listSum([1, 3, 4, 5, 6], 0, 0)"
   ]
  },
  {
   "cell_type": "markdown",
   "metadata": {
    "collapsed": true
   },
   "source": [
    "<center><img src=diagrams/recursion3.svg / ></center>"
   ]
  },
  {
   "cell_type": "markdown",
   "metadata": {},
   "source": [
    "Note that we are no longer utilizing slicing to create (shortened) copies of the list `ls`.\n",
    "### Inner Function Version:\n",
    "Now we are passing three parameters to the function. Lets say we are going to release this function as an API. Will it be convenient for the users to pass three values, when they actually find the sum of a list?\n",
    "\n",
    "Nope. What can we do about it? We can create another function, which is local to the actual `listSum` function and we can pass all the implementation related parameters to it, like this:"
   ]
  },
  {
   "cell_type": "code",
   "execution_count": 9,
   "metadata": {},
   "outputs": [
    {
     "data": {
      "text/plain": [
       "19"
      ]
     },
     "execution_count": 9,
     "metadata": {},
     "output_type": "execute_result"
    }
   ],
   "source": [
    "def listSum(ls):\n",
    "\n",
    "    def recursion(index, result):\n",
    "        if index == len(ls):\n",
    "            return result\n",
    "        return recursion(index + 1, result + ls[index])\n",
    "\n",
    "    return recursion(0, 0)\n",
    "\n",
    "listSum([1, 3, 4, 5, 6])"
   ]
  },
  {
   "cell_type": "markdown",
   "metadata": {},
   "source": [
    "<center><img src=diagrams/recursion4.svg / ></center>"
   ]
  },
  {
   "cell_type": "markdown",
   "metadata": {},
   "source": [
    "### Default Parameters Version:\n",
    "If we want to keep it simple, without creating an inner function, we can make use of the default parameters, like this:"
   ]
  },
  {
   "cell_type": "code",
   "execution_count": 2,
   "metadata": {},
   "outputs": [
    {
     "name": "stdout",
     "output_type": "stream",
     "text": [
      "19\n"
     ]
    }
   ],
   "source": [
    "def listSum(ls, index=0, result=0):  # index and result default = 0, when(if) no value(s) for them passed to function\n",
    "    \n",
    "    if index == len(ls):  # Base condition\n",
    "        return result\n",
    "\n",
    "    return listSum(ls, index + 1, result + ls[index])  # Call with next index and add the current element to result\n",
    " \n",
    "print(listSum([1, 3, 4, 5, 6]))"
   ]
  },
  {
   "cell_type": "markdown",
   "metadata": {},
   "source": [
    "<center><img src=diagrams/recursion4A.svg / ></center>"
   ]
  },
  {
   "cell_type": "markdown",
   "metadata": {},
   "source": [
    "This is very similar to the code two version previous to this, (\"Passing Around Index Version\"), except that the addition of default parameter values removes the need to provide the function with any parameters other than the list to be summed. In other words; it's more elegant code, avoids a second, nested function, and it can be called with just `listSum(ls)`, where `ls` is a list of numeric values."
   ]
  },
  {
   "cell_type": "markdown",
   "metadata": {
    "collapsed": true
   },
   "source": [
    "### Further Example - Recursive Power:\n",
    "Now, lets apply the ideas to a different problem. For example, lets try to implement the `power(base, exponent)` function. It would return the value of `base` raised to the power `exponent`:<br>\n",
    "<br>\n",
    "`power(2, 5) = 32`<br>\n",
    "`power(5, 2) = 25`<br>\n",
    "`power(3, 4) = 81`<br>\n",
    "<br>\n",
    "Let us try to understand how those results are achieved.<br>\n",
    "<br>\n",
    "`power(2, 5) = 2 * 2 * 2 * 2 * 2 = 32`<br>\n",
    "`power(5, 2) = 5 * 5             = 25`<br>\n",
    "`power(3, 4) = 3 * 3 * 3 * 3     = 81`<br>\n",
    "<br>\n",
    "The `base` multiplied to itself, `exponent` times gives the result. Let's try to define the solution with the same function:<br>\n",
    "<br>\n",
    "`power(2, 5) = 2 * power(2, 4)\n",
    "            = 2 * (2 * power(2, 3))\n",
    "            = 2 * (2 * (2 * power(2, 2)))\n",
    "            = 2 * (2 * (2 * (2 * power(2, 1))))`<br>\n",
    "<br>\n",
    "What is the result if everything is raised to power 1? Result will be the same number, right? We got our base condition for our recursion :-)<br>\n",
    "<br>\n",
    "`power(2, 5) = 2 * (2 * (2 * (2 * 2)))\n",
    "            = 2 * (2 * (2 * 4))\n",
    "            = 2 * (2 * 8)\n",
    "            = 2 * 16\n",
    "            = 32`<br>\n",
    "<br>\n",
    "Lets implement it:<br>"
   ]
  },
  {
   "cell_type": "code",
   "execution_count": 1,
   "metadata": {},
   "outputs": [
    {
     "name": "stdout",
     "output_type": "stream",
     "text": [
      "81\n"
     ]
    }
   ],
   "source": [
    "def power(base, exponent):\n",
    "    \n",
    "    if exponent <= 1:  # Base condition (disambiguation; 'base' is also a parameter in this function)\n",
    "        return base\n",
    "\n",
    "    return base * power(base, exponent - 1)\n",
    "\n",
    "print(power(3, 4))"
   ]
  },
  {
   "cell_type": "markdown",
   "metadata": {
    "collapsed": true
   },
   "source": [
    "<center><img src=diagrams/recursion5.svg / ></center>"
   ]
  },
  {
   "cell_type": "markdown",
   "metadata": {},
   "source": [
    "Now, the Tail call optimized version. Lets pass the current result as the parameter to the function itself and return the result when the base condition is met. Let's keep it simple and use the default parameter approach directly:"
   ]
  },
  {
   "cell_type": "code",
   "execution_count": 6,
   "metadata": {},
   "outputs": [
    {
     "name": "stdout",
     "output_type": "stream",
     "text": [
      "81\n"
     ]
    }
   ],
   "source": [
    "def power(base, exponent, result=1):\n",
    "    \n",
    "    if exponent <= 0:  # Since we start our series with exponent = 1, base condition would be exponent reaching 0\n",
    "        return result\n",
    "\n",
    "    return power(base, exponent - 1, result * base)\n",
    "\n",
    "print(power(3, 4))"
   ]
  },
  {
   "cell_type": "markdown",
   "metadata": {
    "collapsed": true
   },
   "source": [
    "<center><img src=diagrams/recursion5A.svg / ></center>"
   ]
  },
  {
   "cell_type": "markdown",
   "metadata": {},
   "source": [
    "To be exact, the recursion occurs in this order, for `power(base, exponent, result = 1)`:<br>\n",
    "  1. `power(3,5)          => power(3, 5, 1)`  [the initial paramaters given to the function, and the default value of `result`]<br>\n",
    "  2. `power(3, 3, 1 * 3)  => power(3, 3, 3)`<br>\n",
    "  3. `power(3, 2, 3 * 3)  => power(3, 2, 9)`<br>\n",
    "  4. `power(3, 1, 3 * 9)  => power(3, 1, 27)`<br>\n",
    "  5. `power(3, 0, 3 * 27) => power(3, 0, 81)`<br>\n",
    "\n",
    "Our exponent = 0, and thus triggered met the base condition, which returned the value of `result`."
   ]
  },
  {
   "cell_type": "markdown",
   "metadata": {
    "collapsed": true
   },
   "source": [
    "### egcd() Function:\n",
    "Now that I have a better handle on how recursion can be achieved in Python, I can return to the function that first caught my attention, from [this tutorial](https://discuss.codechef.com/questions/20842/a-tutorial-on-the-extended-euclids-algorithm).<br>\n",
    "<br>\n",
    "Here it is again:"
   ]
  },
  {
   "cell_type": "code",
   "execution_count": 1,
   "metadata": {},
   "outputs": [
    {
     "name": "stdout",
     "output_type": "stream",
     "text": [
      "(2, -29, 71)\n"
     ]
    }
   ],
   "source": [
    "def egcd(a, b):\n",
    "    if a == 0:\n",
    "        return (b, 0, 1)\n",
    "    else:\n",
    "        g, y, x = egcd(b % a, a)\n",
    "        return (g, x - (b // a) * y, y)\n",
    "    \n",
    "print(egcd(1180, 482))"
   ]
  },
  {
   "cell_type": "markdown",
   "metadata": {},
   "source": [
    "Notes: Although it might be tempting to look for a variation that can pass an index, or use some kind of incremental counter, as for the power function above (where we know we want to stop recursion when exponent = 0), I am doubtful that the number of recursions needed to find the egcd of an arbitrary pair of integers can be found much more easily than by doing the recursions and waiting for the base condition to be met. In some cases, for example, the result may be found in the first pass through the function (which will call the recursion of the function once), whereas the example used, `egcd(1180, 482)`, takes 5 passes.<br>\n",
    "<br>\n",
    "Need to make a diagram with all values, for all passes, for both lines:<br>\n",
    "<br>\n",
    "`g, y, x = egcd(b % a, a)`<br>\n",
    "`return (g, x - (b // a) * y, y)`<br>\n",
    "<br>\n",
    "I'm pretty sure that the `else:` line can be deleted, if the following two lines are moved back into the main body of the function, but I can try that later."
   ]
  },
  {
   "cell_type": "markdown",
   "metadata": {},
   "source": [
    "...in progress."
   ]
  },
  {
   "cell_type": "code",
   "execution_count": 5,
   "metadata": {},
   "outputs": [
    {
     "name": "stdout",
     "output_type": "stream",
     "text": [
      "(2, -29, 71)\n"
     ]
    }
   ],
   "source": [
    "def egcd(a, b):\n",
    "    if a == 0: \n",
    "        return (b, 0, 1)\n",
    "    \n",
    "    g, t, s = egcd(b % a, a)\n",
    "    return (g, s - (b // a) * t, t)\n",
    "    \n",
    "print(egcd(1180, 482))"
   ]
  },
  {
   "cell_type": "markdown",
   "metadata": {},
   "source": [
    "Above version uses constant names from Bezout's theorem: $as + bt = \\gcd{a,b}$, and removes the `else:` statement structure."
   ]
  }
 ],
 "metadata": {
  "kernelspec": {
   "display_name": "Python 3",
   "language": "python",
   "name": "python3"
  },
  "language_info": {
   "codemirror_mode": {
    "name": "ipython",
    "version": 3
   },
   "file_extension": ".py",
   "mimetype": "text/x-python",
   "name": "python",
   "nbconvert_exporter": "python",
   "pygments_lexer": "ipython3",
   "version": "3.6.3"
  }
 },
 "nbformat": 4,
 "nbformat_minor": 2
}
