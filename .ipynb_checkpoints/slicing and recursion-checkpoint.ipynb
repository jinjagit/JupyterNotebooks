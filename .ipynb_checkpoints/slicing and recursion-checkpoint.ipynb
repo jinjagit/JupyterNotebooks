{
 "cells": [
  {
   "cell_type": "markdown",
   "metadata": {},
   "source": [
    "# Slicing and Recursion (in Python):\n",
    "Note: Many notebook functions and diagrams are unavailable / will not display in static views (like GitHub). [View 'live' on MyBinder](https://mybinder.org/v2/gh/jinjagit/JupyterNotebooks/master?filepath=slicing%20and%20recursion.ipynb)\n",
    "### Contents:\n",
    "<a href='#slice'>Slicing</a><br>\n",
    "<a href='#recurs'>Recursion</a><br>\n",
    "> <a href='#recurs'>Simple Version</a><br>\n",
    "> <a href='#tail'>Tail Call Recursion</a><br>\n",
    "> <a href='#pass'>Passing Around Index Version</a><br>\n",
    "> <a href='#inner'>Inner Function Version</a><br>\n",
    "> <a href='#params'>Default Parameters Version</a><br>\n",
    "> <a href='#power'>Further Example: Recursive Power</a><br>\n",
    "> <a href='#recursEGCD'>Recursive egcd()</a><br>\n",
    "\n",
    "<a href='#iterEGCD'>Iterative egcd() Version</a><br>\n",
    "<br>\n",
    "This is more a study of recursion in Python, than of slicing, though the basics of slicing, and some examples of slicing in recursion, are included.<br>\n",
    "<br>\n",
    "Compared to iteration, recursion is generally no faster, and often slower, and also carries more concerns over possible memory issues (e.g. stack overflow). It is mainly used where it is simpler or more elegant to code, clearer to understand, or is a more natural (easier) way to express the underlying math. There may be some very specific applications, using recursion optimized languages, that benefit from recursion over iteration, but I am still unsure if this is more just about easier conceptualization in some fields. <br>\n",
    "<br>\n",
    "The need to study recursion in Python stems from trying to understand `egcd()` from [this tutorial](https://discuss.codechef.com/questions/20842/a-tutorial-on-the-extended-euclids-algorithm), and failing, (though I understand the Extended Euclidian Algorithm it solves). I have, at least, realised it is a recursive function (it calls itself).<br>\n",
    "<br>\n",
    "Here is the function in question:"
   ]
  },
  {
   "cell_type": "code",
   "execution_count": null,
   "metadata": {
    "collapsed": true
   },
   "outputs": [],
   "source": [
    "def egcd(a, b):\n",
    "    if a == 0:\n",
    "        return (b, 0, 1)\n",
    "    else:\n",
    "        g, y, x = egcd(b % a, a)  # <- this line contains the recursive call of the function itself\n",
    "        return (g, x - (b // a) * y, y)\n",
    "    \n",
    "print(egcd(1180, 482))"
   ]
  },
  {
   "cell_type": "markdown",
   "metadata": {},
   "source": [
    "I have found what looks like a very [thorough explanation of recursive functions in Python](https://stackoverflow.com/questions/30214531/basics-of-recursion-in-python), which also points to the benefit of first understanding slicing in Python, which is explained [here](https://stackoverflow.com/questions/509211/understanding-pythons-slice-notation/509295#509295).<br>\n",
    "<br>\n",
    "So, I will start with slicing.<br>\n",
    "<a id='slice'></a>\n",
    "## Slicing:\n",
    "Slice has **only one form:**<br>\n",
    "<br>\n",
    "`s[start:end:step]`\n",
    "- `s`: an object that can be sliced\n",
    "- `start`: first index to start iteration\n",
    "- `end`: last index, NOTE that end index will not be included in the resulted slice\n",
    "- `step`: pick element every step index<br>\n",
    "<br>\n",
    "Any, or all, of 'start,' 'end,' and/or 'step' can be omitted! If omitted, their default values will be used: 0, len(s), 1 accordingly."
   ]
  },
  {
   "cell_type": "code",
   "execution_count": 24,
   "metadata": {},
   "outputs": [
    {
     "name": "stdout",
     "output_type": "stream",
     "text": [
      "['A', 'C', 'E']\n"
     ]
    }
   ],
   "source": [
    "my_list = ['A', 'B', 'C', 'D', 'E', 'F']\n",
    "\n",
    "my_slice = my_list[0:6:2] # start = 0, end = 6 (so, actually at index 5, as (len(my_list) = 6) - 1 = 5, step = 2\n",
    "print (my_slice)"
   ]
  },
  {
   "cell_type": "markdown",
   "metadata": {},
   "source": [
    "Below are some nice examples based on [examples found on stackoverflow](https://stackoverflow.com/questions/509211/understanding-pythons-slice-notation/509295#509295):"
   ]
  },
  {
   "cell_type": "code",
   "execution_count": 23,
   "metadata": {},
   "outputs": [
    {
     "name": "stdout",
     "output_type": "stream",
     "text": [
      "s[:]      = copy entire list (N.B. values = indices, in this example)              = [0, 1, 2, 3, 4, 5, 6, 7, 8, 9]\n",
      "s[2:]     = from index 2 to last index                                             = [2, 3, 4, 5, 6, 7, 8, 9]\n",
      "s[:8]     = from index 0 up to index 8                                             = [0, 1, 2, 3, 4, 5, 6, 7]\n",
      "s[4:7]    = from index 4 (included) up to index 7 (excluded)                       = [4, 5, 6]\n",
      "s[:-2]    = up to second last index (negative index)                               = [0, 1, 2, 3, 4, 5, 6, 7]\n",
      "s[-2:]    = from second last index (negative index)                                = [8, 9]\n",
      "s[::-1]   = from last to first in reverse order (negative step)                    = [9, 8, 7, 6, 5, 4, 3, 2, 1, 0]\n",
      "s[::-2]   = every other index in reversed order                                    = [9, 7, 5, 3, 1]\n",
      "s[-2::-2] = every other index in reversed order, starting from index 2nd from last = [8, 6, 4, 2, 0]\n",
      "s[3:15]   = end is out of range, python will set it to len(s)                      = [3, 4, 5, 6, 7, 8, 9]\n",
      "s[5:1]    = start > end, return empty list                                         = []\n",
      "s[11]     = access index 11(greater than len(s))                                   = raise IndexError:"
     ]
    },
    {
     "ename": "IndexError",
     "evalue": "list index out of range",
     "output_type": "error",
     "traceback": [
      "\u001b[1;31m---------------------------------------------------------------------------\u001b[0m",
      "\u001b[1;31mIndexError\u001b[0m                                Traceback (most recent call last)",
      "\u001b[1;32m<ipython-input-23-87c657ec1a84>\u001b[0m in \u001b[0;36m<module>\u001b[1;34m()\u001b[0m\n\u001b[0;32m     14\u001b[0m \u001b[0mprint\u001b[0m\u001b[1;33m(\u001b[0m\u001b[1;34m\"s[3:15]   = end is out of range, python will set it to len(s)                      = \"\u001b[0m\u001b[1;33m,\u001b[0m \u001b[0mend\u001b[0m\u001b[1;33m=\u001b[0m\u001b[1;34m''\u001b[0m\u001b[1;33m)\u001b[0m\u001b[1;33m;\u001b[0m \u001b[0mprint\u001b[0m\u001b[1;33m(\u001b[0m\u001b[0ms\u001b[0m\u001b[1;33m[\u001b[0m\u001b[1;36m3\u001b[0m\u001b[1;33m:\u001b[0m\u001b[1;36m15\u001b[0m\u001b[1;33m]\u001b[0m\u001b[1;33m)\u001b[0m\u001b[1;33m\u001b[0m\u001b[0m\n\u001b[0;32m     15\u001b[0m \u001b[0mprint\u001b[0m\u001b[1;33m(\u001b[0m\u001b[1;34m\"s[5:1]    = start > end, return empty list                                         = \"\u001b[0m\u001b[1;33m,\u001b[0m \u001b[0mend\u001b[0m\u001b[1;33m=\u001b[0m\u001b[1;34m''\u001b[0m\u001b[1;33m)\u001b[0m\u001b[1;33m;\u001b[0m \u001b[0mprint\u001b[0m\u001b[1;33m(\u001b[0m\u001b[0ms\u001b[0m\u001b[1;33m[\u001b[0m\u001b[1;36m5\u001b[0m\u001b[1;33m:\u001b[0m\u001b[1;36m1\u001b[0m\u001b[1;33m]\u001b[0m\u001b[1;33m)\u001b[0m\u001b[1;33m\u001b[0m\u001b[0m\n\u001b[1;32m---> 16\u001b[1;33m \u001b[0mprint\u001b[0m\u001b[1;33m(\u001b[0m\u001b[1;34m\"s[11]     = access index 11(greater than len(s))                                   = raise IndexError:\"\u001b[0m\u001b[1;33m,\u001b[0m \u001b[0mend\u001b[0m\u001b[1;33m=\u001b[0m\u001b[1;34m''\u001b[0m\u001b[1;33m)\u001b[0m\u001b[1;33m;\u001b[0m \u001b[0mprint\u001b[0m\u001b[1;33m(\u001b[0m\u001b[0ms\u001b[0m\u001b[1;33m[\u001b[0m\u001b[1;36m11\u001b[0m\u001b[1;33m]\u001b[0m\u001b[1;33m)\u001b[0m\u001b[1;33m\u001b[0m\u001b[0m\n\u001b[0m",
      "\u001b[1;31mIndexError\u001b[0m: list index out of range"
     ]
    }
   ],
   "source": [
    "# slicing examples, s[start:end:step]:\n",
    "\n",
    "s = [i for i in range(10)]\n",
    "\n",
    "print(\"s[:]      = copy entire list (N.B. values = indices, in this example)              = \", end=''); print(s[:])\n",
    "print(\"s[2:]     = from index 2 to last index                                             = \", end=''); print(s[2:])\n",
    "print(\"s[:8]     = from index 0 up to index 8                                             = \", end=''); print(s[:8])\n",
    "print(\"s[4:7]    = from index 4 (included) up to index 7 (excluded)                       = \", end=''); print(s[4:7])\n",
    "print(\"s[:-2]    = up to second last index (negative index)                               = \", end=''); print(s[:-2])\n",
    "print(\"s[-2:]    = from second last index (negative index)                                = \", end=''); print(s[-2:])\n",
    "print(\"s[::-1]   = from last to first in reverse order (negative step)                    = \", end=''); print(s[::-1])\n",
    "print(\"s[::-2]   = every other index in reversed order                                    = \", end=''); print(s[::-2])\n",
    "print(\"s[-2::-2] = every other index in reversed order, starting from index 2nd from last = \", end=''); print(s[-2::-2])\n",
    "print(\"s[3:15]   = end is out of range, python will set it to len(s)                      = \", end=''); print(s[3:15])\n",
    "print(\"s[5:1]    = start > end, return empty list                                         = \", end=''); print(s[5:1])\n",
    "print(\"s[11]     = access index 11(greater than len(s))                                   = raise IndexError:\", end=''); print(s[11])"
   ]
  },
  {
   "cell_type": "markdown",
   "metadata": {},
   "source": [
    "Ok, so slicing is a neat way to slice (and/or reorganize) lists in various ways. Very useful and succinct!\n",
    "<a id='recurs'></a>\n",
    "## Recursion:\n",
    "Based on [example on stackoverflow](https://stackoverflow.com/questions/30214531/basics-of-recursion-in-python):\n",
    "\n",
    "Note: The code examples here are mostly not good examples of 'when' to use recursion. They are step-by-step simple case examples.\n",
    "\n",
    "If we wish to write a function `listSum()` that takes a list of integers and returns the sum of all integers in the list, such that:<br>\n",
    "`listSum([1,3,4,5,6]) = 19`<br>\n",
    "<br>\n",
    "Then the non-recursive iteration is something like this:"
   ]
  },
  {
   "cell_type": "code",
   "execution_count": 10,
   "metadata": {},
   "outputs": [
    {
     "name": "stdout",
     "output_type": "stream",
     "text": [
      "19\n"
     ]
    }
   ],
   "source": [
    "def listSum(ls):\n",
    "    s = 0\n",
    "    for i in range (0, len(ls)):\n",
    "        s = s + ls[i]\n",
    "    return s\n",
    "\n",
    "ls = [1, 3, 4, 5, 6]\n",
    "print(listSum(ls))"
   ]
  },
  {
   "cell_type": "markdown",
   "metadata": {},
   "source": [
    "Or, we can rewrite the 'for' loop, with a 'while' iteration:"
   ]
  },
  {
   "cell_type": "code",
   "execution_count": 9,
   "metadata": {},
   "outputs": [
    {
     "name": "stdout",
     "output_type": "stream",
     "text": [
      "19\n"
     ]
    }
   ],
   "source": [
    "def listSum(ls):\n",
    "    i = 0\n",
    "    s = 0\n",
    "    while i < len(ls):\n",
    "        s = s + ls[i]\n",
    "        i = i + 1\n",
    "    return s\n",
    "\n",
    "ls = [1, 3, 4, 5, 6]\n",
    "print(listSum(ls))"
   ]
  },
  {
   "cell_type": "markdown",
   "metadata": {},
   "source": [
    "Whenever facing a problem like this, expressing the result of the function with the same function is a good start.<br>\n",
    "<br>\n",
    "In this case, the result can be obtained by adding the first number with the result of calling the same function with rest of the elements in the list.<br>\n",
    "<br>\n",
    "For example,<br>\n",
    "<br>\n",
    "`listSum([1, 3, 4, 5, 6]) = 1 + listSum([3, 4, 5, 6])\n",
    "                         = 1 + (3 + listSum([4, 5, 6]))\n",
    "                         = 1 + (3 + (4 + listSum([5, 6])))\n",
    "                         = 1 + (3 + (4 + (5 + listSum([6]))))\n",
    "                         = 1 + (3 + (4 + (5 + (6 + listSum([])))))`<br>\n",
    "<br>\n",
    "Now, what should be the result of `listSum([])`? It should be 0. This is the **base condition** of the recursion. When the base condition is met, the recursion will come to an end.<br>\n",
    "<br>\n",
    "I'm still not quite sure why the function wouldn't stop calling itself when it calls and finds there are no more list items, but obviously it doesn't, and therefore we need a break condition, and _then_ Python 'knows' it can process the return of the last recursive run of the function.<br>\n",
    "<br>\n",
    "Now, lets try to implement it. The main thing here is, splitting the list. Slicing can do this:<br>\n",
    "<a id='simple'></a>\n",
    "### Simple Version:"
   ]
  },
  {
   "cell_type": "code",
   "execution_count": 8,
   "metadata": {},
   "outputs": [
    {
     "data": {
      "text/plain": [
       "19"
      ]
     },
     "execution_count": 8,
     "metadata": {},
     "output_type": "execute_result"
    }
   ],
   "source": [
    "def listSum(ls):\n",
    "    if not ls: # Base condition\n",
    "        return 0\n",
    "\n",
    "    return ls[0] + listSum(ls[1:]) # First element + result of calling listSum() with rest of the elements\n",
    " \n",
    "listSum([1, 3, 4, 5, 6])"
   ]
  },
  {
   "cell_type": "markdown",
   "metadata": {},
   "source": [
    "<center><img src=diagrams/recursion1.svg / ></center>"
   ]
  },
  {
   "cell_type": "markdown",
   "metadata": {},
   "source": [
    "The key thing here (that took me a while to see) is that the function adds ls[0] to a recursion of the function itself. Since the recursive calls are each given a copy of the list that was previously passed into the function, but _with one less item in the list_ for each recursion, (since each recursion starts with a copy of the list, starting with the _second_ list item), ls[0] is effectively the next item from the original list (actually from a shortened copy of the original list) for each recursion (and the copy of the list is 1 item shorter each recursion).\n",
    "\n",
    "So, it appears (through experimentation) that the value returned by the if condition (base condition), 0 in this case, is added to the result (when the base condition is met, which is when listSum is called on an empty list). The base condition also returns '0' and _does not call `ListSum()` (itself)_, thus halting the recursion.<br>\n",
    "<br>\n",
    "\n",
    "If I'm right, then using a multiplicative operation in the main operation (not base condition)mean that varying the return from the base condition multiplies the result accordingly:\n",
    "### Simple Version (multiplicative variation):"
   ]
  },
  {
   "cell_type": "code",
   "execution_count": 13,
   "metadata": {},
   "outputs": [
    {
     "name": "stdout",
     "output_type": "stream",
     "text": [
      "Note: multiplicative variation. Not intended to produce same result as previous and following additive versions: \n"
     ]
    },
    {
     "data": {
      "text/plain": [
       "24"
      ]
     },
     "execution_count": 13,
     "metadata": {},
     "output_type": "execute_result"
    }
   ],
   "source": [
    "def listMult(ls):\n",
    "    if not ls: # Base condition\n",
    "        return 1\n",
    "\n",
    "    return ls[0] * listMult(ls[1:]) # First element + result of calling listMult() on the rest of the elements\n",
    "\n",
    "print(\"Note: multiplicative variation. Not intended to produce same result as previous and following additive versions: \")\n",
    "listMult([2, 3, 4])"
   ]
  },
  {
   "cell_type": "markdown",
   "metadata": {},
   "source": [
    "Yup, confirmed. Changing '`return 1`' in the base condition to '`return 2`', for example, in the code above, outputs 48, which is 2 times the correct answer of 24.<br>\n",
    "<br>\n",
    "Thus, when using the slicing method above, it is important that the value returned from the base condition does not change the result already arrived at (thus, adding 0 to an additive recursion, and multiplying by 1 for a multiplicativce recursion).<br>\n",
    "<a id='tail'></a>\n",
    "### Tail Call Recursion:\n",
    "Now we understand how the above recursion works, we can try to make it a little bit better. Now, to find the actual result, we are depending on the value of the previous function also. The return statement cannot immediately return the value till the recursive call returns a result. We can avoid this by, passing the current result to the function parameter. Let's try this on our previous `listSum()` example:"
   ]
  },
  {
   "cell_type": "code",
   "execution_count": 14,
   "metadata": {},
   "outputs": [
    {
     "data": {
      "text/plain": [
       "19"
      ]
     },
     "execution_count": 14,
     "metadata": {},
     "output_type": "execute_result"
    }
   ],
   "source": [
    "def listSum(ls, result):\n",
    "    if not ls:\n",
    "        return result\n",
    "    return listSum(ls[1:], result + ls[0])\n",
    "\n",
    "listSum([1, 3, 4, 5, 6], 0)"
   ]
  },
  {
   "cell_type": "markdown",
   "metadata": {},
   "source": [
    "<center><img src=diagrams/recursion2.svg / ></center>"
   ]
  },
  {
   "cell_type": "markdown",
   "metadata": {},
   "source": [
    "Now the function requires 2 parameters, not just the list. i.e. `(ls, result)`<br>\n",
    "<br>\n",
    "We now also start by passing into the function the initial value of the sum as one of two parameters, which, in this case, is `result`, which is zero in  `listSum([1, 3, 4, 5, 6], 0)`, so that for the function, initially, `listSum(ls, result)`, `ls = [1, 3, 4, 5, 6]`, and `result = 0`.<br>\n",
    "<br>\n",
    "Now, the recursive return statement has `listSum(ls[1:], result + ls[0])`, where we add the first element to the current `result` and pass it again to the recursive call as `result`, along with a copy of the copy of the list `ls` with the first list item removed as `ls`.<br>\n",
    "<br>\n",
    "Then, when the base condition is met, we return the `result` parameter as the output of the function, since we have been accumulating the sum in the `result` variable.<br>\n",
    "<br>\n",
    "This results in one less function call than the previous example because we no longer need to provide `ls[0] = 0` to a final recursive call of the function. We no longer need to satisfy the final recursive call because each return has been completed by each recursion, so there is no 'incomplete' return call to complete and we can simply return the `result` variable when the base condition is met.<br>\n",
    "<br>\n",
    "This might be a good time to understand Tail Call. It would not be relevant to Python, as it doesn't do Tail call optimization."
   ]
  },
  {
   "cell_type": "markdown",
   "metadata": {
    "collapsed": true
   },
   "source": [
    "<a id='pass'></a>\n",
    "### Passing Around Index Version:\n",
    "Can we avoid creating so many intermediate lists?\n",
    "\n",
    "Yes. We just need the index of the item to be processed next. But now, the base condition will be different. Since we are going to be passing an index, how will we determine how the entire list has been processed? Well, if the index equals the length of the list, then we have processed all the elements in it:"
   ]
  },
  {
   "cell_type": "code",
   "execution_count": 15,
   "metadata": {},
   "outputs": [
    {
     "data": {
      "text/plain": [
       "19"
      ]
     },
     "execution_count": 15,
     "metadata": {},
     "output_type": "execute_result"
    }
   ],
   "source": [
    "def listSum(ls, index, result):\n",
    "    if index == len(ls):  # Base condition\n",
    "        return result\n",
    "    \n",
    "    return listSum(ls, index + 1, result + ls[index])  # Call with next index and add the current element to result\n",
    "\n",
    "listSum([1, 3, 4, 5, 6], 0, 0)"
   ]
  },
  {
   "cell_type": "markdown",
   "metadata": {
    "collapsed": true
   },
   "source": [
    "<center><img src=diagrams/recursion3.svg / ></center>"
   ]
  },
  {
   "cell_type": "markdown",
   "metadata": {},
   "source": [
    "Note that we are no longer utilizing slicing to create (shortened) copies of the list `ls`.\n",
    "<a id='inner'></a>\n",
    "### Inner Function Version:\n",
    "Now we are passing three parameters to the function. Lets say we are going to release this function as an API. Will it be convenient for the users to pass three values, when they actually find the sum of a list?\n",
    "\n",
    "Nope. What can we do about it? We can create another function, which is local to the actual `listSum` function and we can pass all the implementation related parameters to it, like this:"
   ]
  },
  {
   "cell_type": "code",
   "execution_count": 16,
   "metadata": {},
   "outputs": [
    {
     "data": {
      "text/plain": [
       "19"
      ]
     },
     "execution_count": 16,
     "metadata": {},
     "output_type": "execute_result"
    }
   ],
   "source": [
    "def listSum(ls):\n",
    "\n",
    "    def recursion(index, result):\n",
    "        if index == len(ls):\n",
    "            return result\n",
    "        return recursion(index + 1, result + ls[index])\n",
    "\n",
    "    return recursion(0, 0)\n",
    "\n",
    "listSum([1, 3, 4, 5, 6])"
   ]
  },
  {
   "cell_type": "markdown",
   "metadata": {},
   "source": [
    "<center><img src=diagrams/recursion4.svg / ></center>"
   ]
  },
  {
   "cell_type": "markdown",
   "metadata": {},
   "source": [
    "<a id='params'></a>\n",
    "### Default Parameters Version:\n",
    "If we want to keep it simple, without creating an inner function, we can make use of the default parameters, like this:"
   ]
  },
  {
   "cell_type": "code",
   "execution_count": 17,
   "metadata": {},
   "outputs": [
    {
     "name": "stdout",
     "output_type": "stream",
     "text": [
      "19\n"
     ]
    }
   ],
   "source": [
    "def listSum(ls, index=0, result=0):  # index and result default = 0, when(if) no value(s) for them passed to function\n",
    "    \n",
    "    if index == len(ls):  # Base condition\n",
    "        return result\n",
    "\n",
    "    return listSum(ls, index + 1, result + ls[index])  # Call with next index and add the current element to result\n",
    " \n",
    "print(listSum([1, 3, 4, 5, 6]))"
   ]
  },
  {
   "cell_type": "markdown",
   "metadata": {},
   "source": [
    "<center><img src=diagrams/recursion4A.svg / ></center>"
   ]
  },
  {
   "cell_type": "markdown",
   "metadata": {},
   "source": [
    "This is very similar to the code two version previous to this, (\"Passing Around Index Version\"), except that the addition of default parameter values removes the need to provide the function with any parameters other than the list to be summed. In other words; it's more elegant code, avoids a second, nested function, and it can be called with just `listSum(ls)`, where `ls` is a list of numeric values."
   ]
  },
  {
   "cell_type": "markdown",
   "metadata": {
    "collapsed": true
   },
   "source": [
    "<a id='power'></a>\n",
    "### Further Example - Recursive Power:\n",
    "Now, lets apply the ideas to a different problem. For example, lets try to implement the `power(base, exponent)` function. It would return the value of `base` raised to the power `exponent`:<br>\n",
    "<br>\n",
    "`power(2, 5) = 32`<br>\n",
    "`power(5, 2) = 25`<br>\n",
    "`power(3, 4) = 81`<br>\n",
    "<br>\n",
    "Let us try to understand how those results are achieved.<br>\n",
    "<br>\n",
    "`power(2, 5) = 2 * 2 * 2 * 2 * 2 = 32`<br>\n",
    "`power(5, 2) = 5 * 5             = 25`<br>\n",
    "`power(3, 4) = 3 * 3 * 3 * 3     = 81`<br>\n",
    "<br>\n",
    "The `base` multiplied to itself, `exponent` times gives the result. Let's try to define the solution with the same function:<br>\n",
    "<br>\n",
    "`power(2, 5) = 2 * power(2, 4)\n",
    "            = 2 * (2 * power(2, 3))\n",
    "            = 2 * (2 * (2 * power(2, 2)))\n",
    "            = 2 * (2 * (2 * (2 * power(2, 1))))`<br>\n",
    "<br>\n",
    "What is the result if everything is raised to power 1? Result will be the same number, right? We got our base condition for our recursion :-)<br>\n",
    "<br>\n",
    "`power(2, 5) = 2 * (2 * (2 * (2 * 2)))\n",
    "            = 2 * (2 * (2 * 4))\n",
    "            = 2 * (2 * 8)\n",
    "            = 2 * 16\n",
    "            = 32`<br>\n",
    "<br>\n",
    "Lets implement it:<br>"
   ]
  },
  {
   "cell_type": "code",
   "execution_count": 18,
   "metadata": {},
   "outputs": [
    {
     "name": "stdout",
     "output_type": "stream",
     "text": [
      "81\n"
     ]
    }
   ],
   "source": [
    "def power(base, exponent):\n",
    "    \n",
    "    if exponent <= 1:  # Base condition (disambiguation; 'base' is also a parameter in this function)\n",
    "        return base\n",
    "\n",
    "    return base * power(base, exponent - 1)\n",
    "\n",
    "print(power(3, 4))"
   ]
  },
  {
   "cell_type": "markdown",
   "metadata": {
    "collapsed": true
   },
   "source": [
    "<center><img src=diagrams/recursion5.svg / ></center>"
   ]
  },
  {
   "cell_type": "markdown",
   "metadata": {},
   "source": [
    "Now, the Tail call optimized version. Lets pass the current result as the parameter to the function itself and return the result when the base condition is met. Let's keep it simple and use the default parameter approach directly:"
   ]
  },
  {
   "cell_type": "code",
   "execution_count": 19,
   "metadata": {},
   "outputs": [
    {
     "name": "stdout",
     "output_type": "stream",
     "text": [
      "81\n"
     ]
    }
   ],
   "source": [
    "def power(base, exponent, result=1):\n",
    "    \n",
    "    if exponent <= 0:  # Since we start our series with exponent = 1, base condition would be exponent reaching 0\n",
    "        return result\n",
    "\n",
    "    return power(base, exponent - 1, result * base)\n",
    "\n",
    "print(power(3, 4))"
   ]
  },
  {
   "cell_type": "markdown",
   "metadata": {
    "collapsed": true
   },
   "source": [
    "<center><img src=diagrams/recursion5A.svg / ></center>"
   ]
  },
  {
   "cell_type": "markdown",
   "metadata": {},
   "source": [
    "To be exact, the recursion occurs in this order, for `power(base, exponent, result = 1)`:<br>\n",
    "  1. `power(3,5)          => power(3, 5, 1)`  [the initial paramaters given to the function, and the default value of `result`]<br>\n",
    "  2. `power(3, 3, 1 * 3)  => power(3, 3, 3)`<br>\n",
    "  3. `power(3, 2, 3 * 3)  => power(3, 2, 9)`<br>\n",
    "  4. `power(3, 1, 3 * 9)  => power(3, 1, 27)`<br>\n",
    "  5. `power(3, 0, 3 * 27) => power(3, 0, 81)`<br>\n",
    "\n",
    "Our exponent = 0, and thus triggered met the base condition, which returned the value of `result`."
   ]
  },
  {
   "cell_type": "markdown",
   "metadata": {
    "collapsed": true
   },
   "source": [
    "<a id='recursEGCD'></a>\n",
    "### egcd() Function:\n",
    "Now that I have a better handle on how recursion can be achieved in Python, I can return to the function that first caught my attention, from [this tutorial](https://discuss.codechef.com/questions/20842/a-tutorial-on-the-extended-euclids-algorithm).<br>\n",
    "<br>\n",
    "Here it is again:"
   ]
  },
  {
   "cell_type": "code",
   "execution_count": 20,
   "metadata": {},
   "outputs": [
    {
     "name": "stdout",
     "output_type": "stream",
     "text": [
      "(2, -29, 71)\n"
     ]
    }
   ],
   "source": [
    "def egcd(a, b):\n",
    "    if a == 0:\n",
    "        return (b, 0, 1)\n",
    "    else:\n",
    "        g, y, x = egcd(b % a, a)\n",
    "        return (g, x - (b // a) * y, y)\n",
    "    \n",
    "print(egcd(1180, 482))"
   ]
  },
  {
   "cell_type": "markdown",
   "metadata": {},
   "source": [
    "Notes: Although it might be tempting to look for a variation that can pass an index, or use some kind of incremental counter, as for the `power()` function above, (where we know we want to stop recursion when exponent = 0), I am doubtful that the number of recursions needed to find the egcd of an arbitrary pair of integers can be found much more easily than by doing the recursions until the base condition is met. In some cases, for example, the result may be found in the first pass through the function, (which will call the recursion of the function once), whereas the example used, `egcd(1180, 482)`, takes 5 passes.<br>\n",
    "<br>\n",
    "Need to make a diagram with all values, for all passes, for both lines:<br>\n",
    "<br>\n",
    "`g, y, x = egcd(b % a, a)`<br>\n",
    "`return (g, x - (b // a) * y, y)`<br>\n",
    "<br>\n",
    "Then, I can compare the numbers produced with those in this video of the Extended Euclidian Algorithm being used to derive the gcd and $s$ and $t$ from Bezout's theorem, and then work outr how `egcd()` is doing all this.<br>\n",
    "<br>\n",
    "I'm pretty sure that the `else:` line can be deleted, if the following two lines are moved back into the main body of the function. Let's also add a line to print out the values of `g`, `s`, and `t`:"
   ]
  },
  {
   "cell_type": "code",
   "execution_count": 21,
   "metadata": {},
   "outputs": [
    {
     "name": "stdout",
     "output_type": "stream",
     "text": [
      "g: 2, s: 1, t: 0\n",
      "g: 2, s: 0, t: 1\n",
      "g: 2, s: 1, t: -3\n",
      "g: 2, s: -3, t: 13\n",
      "g: 2, s: 13, t: -29\n",
      "g: 2, s: -29, t: 71\n",
      "(2, -29, 71)\n"
     ]
    }
   ],
   "source": [
    "def egcd(a, b):\n",
    "    if a == 0: \n",
    "        return (b, 0, 1)\n",
    "    \n",
    "    g, t, s = egcd(b % a, a)\n",
    "    \n",
    "    print(\"g: %d, s: %d, t: %d\" % (g, s, t)) # show values per run/recursion\n",
    "    \n",
    "    return (g, s - (b // a) * t, t)\n",
    "\n",
    "print(egcd(1180, 482))"
   ]
  },
  {
   "cell_type": "markdown",
   "metadata": {},
   "source": [
    "Above version uses constant names from Bezout's theorem: $as + bt = \\gcd{a,b}$, and removes the `else:` statement structure.<br>\n",
    "<br>\n",
    "We can see it gives the values 2, -29, and 71 as output, and these represent the $\\gcd$, $s$, and $t$, repectively in Bezout's theorum.<br>\n",
    "<br>\n",
    "This is correct, as by subtitution we get:<br>\n",
    "<br>\n",
    "$as + bt = \\gcd{a,b}$<br>\n",
    "$=>1180\\cdot -29 + 482\\cdot 71 = \\gcd{1180,482}$<br>\n",
    "$=>1180\\cdot -29 + 482\\cdot 71 = 2$<br>\n",
    "$=>-34220 + 34222 = 2$<br>"
   ]
  },
  {
   "cell_type": "markdown",
   "metadata": {},
   "source": [
    "<center><img src=diagrams/recursion6.svg / ></center>"
   ]
  },
  {
   "cell_type": "markdown",
   "metadata": {
    "collapsed": true
   },
   "source": [
    "1.  So, initially, `ecgd()` is called with `a = 1180`, `b = 482`, by the command `egcd(1180, 482)`<br>\n",
    "<br>\n",
    "    - `a` is not zero (`a = 1180`), so our base condition is not met, and the function proceeds to the line: `g, t, s = egcd(b % a, a)`<br>\n",
    "<br>\n",
    "    - But what are the values of \"`g`, `t`, and `s`\" that are returned by `egcd(b % a, a)`, which is `egcd(482, 1180)` at this point?<br>\n",
    "<br>\n",
    "    - We cannot know these values until this first recursive call of `egcd(482, 1180)` completes, and it cannot complete until the second recursive call completes, since the first recursive call of `egcd(482, 1180)` provides a value of `a` which is also not zero (`a = 482`) to the call to itself, and hence initiates the second recursive call... <br>\n",
    "<br>\n",
    "    - And thus, none of the recursive calls to egcd() can return their results until one of these calls receives values for `g`, `t`, and `s` that are not equal to an expression that includes a call to `egcd()`. [Note: this explains the potential memory issues. These incomplete calls need to be stored, awaiting completion. Since we have not limited the size of the input integers, we cannot really know what demands on memory this function may make.]<br>\n",
    "<br>\n",
    "    - Each recursive call to `egcd()` also modifies the values of `a` and `b`, effectively doing $a_{n+1} = (b_n\\mod{a_n})$, and $b_{n+1} = a_n$, which will eventually give the greatest common divisor ($\\gcd$) of the original values of `a` and `b` provided to `egcd(a, b)` when it was first called (in this case; `a = 1180`, `b = 482`), _when_ the recursive calls to egcd() are passed a parameter value of a == 0.<br>\n",
    "<br>\n",
    "2.  The sixth recursive call, in this example, calls `egcd(0, 2)`, and thus `a == 0` and the base condition is met.<br>\n",
    "<br>\n",
    "    - The base condition returns (b, 0, 1), and b = 2 at this point, so the base condition returns = (2, 0, 1)<br>\n",
    "<br>\n",
    "    - Thus, the sixth recursive call now has the values for `g`, `t`, `s` it is meant to use in producing its return; `g = 2`, `t = 0`, `s = 1`<br>\n",
    "<br>\n",
    "    - Each recursive call returns 3 values using the line: `return(g, s - (b // a) * t, t)`<br>\n",
    "<br>\n",
    "    - Thus the 6th recursive call returns; `(2, 1 - (b // a) * 0, 0)`, but with what values for `a` and `b`?<br>\n",
    "<br>\n",
    "    - The values of `a` and `b` for the 6th recursive call come from the 5th recursive call, which was `egcd(2, 16)`, so `a = 2`, and `b = 16`, at this point.<br>\n",
    "<br>\n",
    "    - Thus the 6th recursive call returns; `(2, 1 - (16 // 2) * 0, 0) == (2, 1, 0), to the _fifth_ recursive call.`<br>\n",
    "<br>\n",
    "\n",
    "3.  Now we have the values for `g`, `t`, `s` that the fifth recursive call should use in producing its return, in conjuction with the values of `a` and `b` it received from the previous recursion, it returns 3 values and they are passed into the 4th recursion as 'new' values of `g`, `t`, `s`, etc.<br>\n",
    "<br>\n",
    "    - This process continues until the first recursive call receives values for `g`, `t`, `s` and produces its return, which completes all calls to egcd(). Since this is effectively the last return executed, these values are the final output of the function<br>\n",
    "<br>\n",
    "\n",
    "Note how the %\\gcd% is found via the creation of the incomplete recursive calls, and then passed through each recursion, unchanged as `g`. (The base condition returns (b, 0, 1) and at this point b = the gcd, then g is set to the value of b in the line `g, t, s = egcd(b % a, a)` and each recursive call will return `(g, s - (b // a) * t, t)`, thus g is passed back up the line of waiting incomplete calls to egcd(), unchanged, such that the final return includes the $\\gcd$ result as `g`, the first integer of the three returned.<br>\n",
    "<br>\n",
    "All that from just 4 short lines of code!"
   ]
  },
  {
   "cell_type": "markdown",
   "metadata": {},
   "source": [
    "<a id='iterEGCD'></a>\n",
    "### Iterative Version of egcd():\n",
    "Although elegent and succinct, for me `egcd()` is not a function where recursion helps me to understand or see what is happening by looking at its code.<br>\n",
    "<br>\n",
    "This is because it executes in a non-intuitive way. Humans, generally, like to do iterative math, where each step produces an intermediate answer, or set of outputs, which can be used by the next step, until the final answer / output(s) is/are found. This function, however, creates a set of incomplete statements while also finding the $\\gcd$ by an iterative step-by-step process. In essence it is doing one iteration AND building the steps for a second set of iterations which use results from the previous round of iteration _in reverse order_. This reversal of direction, using results found on the way 'forward',  is known as 'back substition'.<br>\n",
    "<br>\n",
    "Back substitution is not well represented by serial lines of code. It is hard for me to see a forward process as also building the structure of a backward process which will run when the forward process completes. The code simply doesn't spell this out for me in terms of its structure.<br>\n",
    "<br>\n",
    "OK, I now know _how_ the recursive version works. I also know that, generally, iterative versions are faster and more efficient, and less prone to memory trouble.<br>\n",
    "<br>\n",
    "To create an iterative version of `egcd()`, I can start with my own code, `gcd()`. The latter function simply finds the greatest common divisor of two (non-zero) integers. Thus, it requires two integer parameters and returns one integer.<br>\n",
    "<br>\n",
    "In other words, `gcd()`, only finds the one of the three values found by `egcd()`."
   ]
  },
  {
   "cell_type": "code",
   "execution_count": 4,
   "metadata": {},
   "outputs": [
    {
     "data": {
      "text/plain": [
       "2"
      ]
     },
     "execution_count": 4,
     "metadata": {},
     "output_type": "execute_result"
    }
   ],
   "source": [
    "# GCD calculator, using Euclidean Algorithm - by Simon Tharby, 2018\n",
    "def gcd(a, b):\n",
    "    if a > b:  # ensure a is smaller than b by swapping values if needed (convention of Bezout's theorem)\n",
    "        a, b = b, a\n",
    "    count = 0\n",
    "    \n",
    "    while b % a != 0:\n",
    "        a, b = b% a, a\n",
    "        count += 1\n",
    "        \n",
    "    return abs(a)\n",
    "\n",
    "gcd(1180, 482)"
   ]
  },
  {
   "cell_type": "markdown",
   "metadata": {},
   "source": [
    "I wrote the above code without reference to `egcd()`, simply by understanding how the Euclidian Algorithm can be used to find a gcd. If I had not known this, however, I could have derived it from the above analysis of the recursive form of egcd.<br>\n",
    "<br>\n",
    "I previously noted that, in the recursive form of `egcd()`, each recursive call to `egcd()` modifies the values of `a` and `b`, effectively doing  $a_{n+1}=(b_n\\mod{a_n})$, and $b_{n+1}=a_n$, which will eventually yield the greatest common divisor ($gcd$) of the original values of `a` and `b` provided to `egcd(a, b)`.<br>\n",
    "<br>\n",
    "This is also, effectively, how my iterative `gcd()` finds the gcd for two integer value inputs.<br>\n",
    "<br>\n",
    "Let's add two lines to print the values of `a` and `b` for every iteration:"
   ]
  },
  {
   "cell_type": "code",
   "execution_count": 3,
   "metadata": {},
   "outputs": [
    {
     "name": "stdout",
     "output_type": "stream",
     "text": [
      "a: 1180, b: 482\n",
      "a: 482, b: 1180\n",
      "a: 216, b: 482\n",
      "a: 50, b: 216\n",
      "a: 16, b: 50\n",
      "a: 2, b: 16\n"
     ]
    },
    {
     "data": {
      "text/plain": [
       "2"
      ]
     },
     "execution_count": 3,
     "metadata": {},
     "output_type": "execute_result"
    }
   ],
   "source": [
    "def gcd(a, b):\n",
    "    print(\"a: %d, b: %d\" % (a, b))  # print initial values of a and b\n",
    "        \n",
    "    count = 0\n",
    "    \n",
    "    while b % a != 0:\n",
    "        a, b = b% a, a\n",
    "        count += 1\n",
    "        \n",
    "        print(\"a: %d, b: %d\" % (a, b))  # print values of a and b at completion of each 'while' loop\n",
    "        \n",
    "    return abs(a)\n",
    "\n",
    "gcd(1180, 482)"
   ]
  },
  {
   "cell_type": "markdown",
   "metadata": {},
   "source": [
    "We can already see how these values of a and b include many of the values found in the recursive egcd() calculations, above (see diagram). Thus, we can develop code to mimic the actions of the recursive form of egcd(), _even if_ we have no knowledge of the Euclidian Algorithm, or of the role of this code within a program.<br>"
   ]
  },
  {
   "cell_type": "markdown",
   "metadata": {},
   "source": [
    "Since we have derived our $\\gcd$ first, and do not need to pass it between functions (recursive or otherwise), we can simply store it as `g`.<br>\n",
    "<br>\n",
    "We know the first recursive call bases its return on the values `g`, `t`, and `s`, and that, in this case those values are 2, 0, and 1, respectively. So how can we get those? We already have g, as our return from gdc(), so we just set the initial values of s and t, just as the base condition (in the recursive form) did:<br>"
   ]
  },
  {
   "cell_type": "code",
   "execution_count": 5,
   "metadata": {},
   "outputs": [
    {
     "name": "stdout",
     "output_type": "stream",
     "text": [
      "a: 1180, b: 482\n",
      "a: 482, b: 1180\n",
      "a: 216, b: 482\n",
      "a: 50, b: 216\n",
      "a: 16, b: 50\n",
      "a: 2, b: 16\n",
      "\n",
      "g: 2, s: 0, t: 1\n"
     ]
    }
   ],
   "source": [
    "def gcd(a, b):\n",
    "    print(\"a: %d, b: %d\" % (a, b))  # print initial values of a and b\n",
    "        \n",
    "    count = 0\n",
    "    \n",
    "    while b % a != 0:\n",
    "        a, b = b% a, a\n",
    "        count += 1\n",
    "        \n",
    "        print(\"a: %d, b: %d\" % (a, b))  # print values of a and b at completion of each 'while' loop\n",
    "        \n",
    "    return abs(a)\n",
    "\n",
    "g = gcd(1180, 482)\n",
    "\n",
    "s, t = 0, 1  # create initial values for s and t\n",
    "\n",
    "print()\n",
    "print(\"g: %d, s: %d, t: %d\" % (g, s, t))"
   ]
  },
  {
   "cell_type": "markdown",
   "metadata": {},
   "source": [
    "[Note: We could have returned `a` from `gcd()` and used it for our `t` value, but since we know `a = 0` at this point, we can simply provide `t = 0`.]<br>\n",
    "<br>\n",
    "We will want to make use of the values of `b` from all iterations. Previous values of b will no longer be in memory, so we will need to create a list as we iterate. I know these values are the results of floor operations (in the Extended Euclidian Algorithm), so I will name the list '`floors`' (though this name is arbitrary):"
   ]
  },
  {
   "cell_type": "code",
   "execution_count": 6,
   "metadata": {},
   "outputs": [
    {
     "name": "stdout",
     "output_type": "stream",
     "text": [
      "g: 2, s: 0, t: 1\n",
      "floors: 482 1180 482 216 50 16\n"
     ]
    }
   ],
   "source": [
    "def gcd(a, b):\n",
    "    count = 0\n",
    "    \n",
    "    floors = []  # create empty list\n",
    "    \n",
    "    while b % a != 0:\n",
    "        \n",
    "        floors.append(b)  # store value of b in list 'floors'\n",
    "        \n",
    "        a, b = b% a, a\n",
    "        count += 1\n",
    "        \n",
    "    floors.append(b)  # append final value of b to list 'floors'\n",
    "       \n",
    "    return abs(a), floors  # return list 'floors' as well as gcd\n",
    "\n",
    "g, floors = gcd(1180, 482)  \n",
    "\n",
    "s, t = 0, 1\n",
    "\n",
    "print(\"g: %d, s: %d, t: %d\" % (g, s, t))\n",
    "print(\"floors: \", end=''); print(\" \".join('%s'%x for x in floors))"
   ]
  },
  {
   "cell_type": "markdown",
   "metadata": {},
   "source": [
    "We now have a list of all the values we need, in the reverse order to that in which we shall use them. We could reverse the order using slicing, however we can just take what we need in order, starting at the last list item and working back to the first.<br>\n",
    "<br>\n",
    "Let's use our first values of `s` and `t` to complete the the next iteration:"
   ]
  },
  {
   "cell_type": "code",
   "execution_count": 3,
   "metadata": {},
   "outputs": [
    {
     "name": "stdout",
     "output_type": "stream",
     "text": [
      "g: 2, s: 0, t: 1\n",
      "floors: 482 1180 482 216 50 16\n",
      "s: -3, t: 1\n"
     ]
    }
   ],
   "source": [
    "def gcd(a, b):\n",
    "    count = 0\n",
    "    floors = []\n",
    "    \n",
    "    while b % a != 0:\n",
    "        floors.append(b)\n",
    "        a, b = b% a, a\n",
    "        count += 1\n",
    "        \n",
    "    floors.append(b)\n",
    "       \n",
    "    return abs(a), floors\n",
    "\n",
    "g, floors = gcd(1180, 482)  \n",
    "s, t = 0, 1\n",
    "\n",
    "print(\"g: %d, s: %d, t: %d\" % (g, s, t))\n",
    "print(\"floors: \", end=''); print(\" \".join('%s'%x for x in floors))\n",
    "\n",
    "s, t = t, s - ((floors[len(floors) - 2])  // (floors[len(floors) - 1])) * t  # calculating the next value of s of t\n",
    "\n",
    "print(\"s: %d, t: %d\" % (t, s))"
   ]
  },
  {
   "cell_type": "markdown",
   "metadata": {},
   "source": [
    "These values concur with the ouput of the penultimate recursive call in the recursive form of egcd(), which is the second to return after the base condition return, and this is no surprise since I have based the expression in question on the return call of those recursive calls: `return (g, s - (b // a) * t, t)`<br>\n",
    "<br>\n",
    "What may be slightly surprising is that we don't need the equivalent of the return of the last two recursions called. That recursion passed a = 0, thus its base condition was met, which released the previous recursion to pass a = 2, b = 16.  In our iterative version we just jump straight to using the values of b from this point as the equivalents of a and b in `return (g, s - (b // a) * t, t)` in the recursive version, where a is the previous `floor` list item to whichever `floor` list item we are viewing as b.<br>\n",
    "<br>\n",
    "At this point in the recursive `egcd()`, `g` is the $\\gcd$ and is passed unchanged, `s - (b // a) * t` gives the next value of `t`, and `s` the next value of `t`.<br>\n",
    "<br>\n",
    "Now we can simply iterate through this formula as many times as we have items in our '`floors`' list:"
   ]
  },
  {
   "cell_type": "code",
   "execution_count": 7,
   "metadata": {},
   "outputs": [
    {
     "name": "stdout",
     "output_type": "stream",
     "text": [
      "floors: 482 1180 482 216 50 16\n",
      "s: 1, t: -3\n",
      "s: -3, t: 13\n",
      "s: 13, t: -29\n",
      "s: -29, t: 71\n",
      "s: 71, t: -29\n",
      "g: 2, s: -29, t: 71\n"
     ]
    }
   ],
   "source": [
    "def gcd(a, b):\n",
    "    count = 0\n",
    "    floors = []\n",
    "    \n",
    "    while b % a != 0:\n",
    "        floors.append(b)\n",
    "        a, b = b% a, a\n",
    "        count += 1\n",
    "        \n",
    "    floors.append(b)\n",
    "       \n",
    "    return abs(a), floors\n",
    "\n",
    "g, floors = gcd(1180, 482)  \n",
    "\n",
    "s, t = 0, 1\n",
    "\n",
    "print(\"floors: \", end=''); print(\" \".join('%s'%x for x in floors))\n",
    "\n",
    "for i in range (0, len(floors) - 1):\n",
    "    s, t = t, s - ((floors[len(floors) - i - 2])  // (floors[len(floors) - i - 1])) * t\n",
    "    \n",
    "    print(\"s: %d, t: %d\" % (s, t))\n",
    "    \n",
    "print(\"g: %d, s: %d, t: %d\" % (g, t, s))  # Note: t and s are swapped, as for the recursive function returns"
   ]
  },
  {
   "cell_type": "markdown",
   "metadata": {},
   "source": [
    "And there we have it! We have found our $gcd$, `g = 2`, and `s = -29, t = 71`, which we already know satisfy Benout's theorem:<br>\n",
    "<br>\n",
    "$as + bt = \\gcd{a,b}$<br>\n",
    "<br>\n",
    "For reassurance this is correct, [this video](https://youtu.be/hB34-GSDT3k) of calculating the Extended Euclidian Algorithm by hand, for the values of a and b used here (1180 and 482, respectively) confirms the results. I have also checked with other values for a and b, comparing the results to online Extended Euclidian Algorithm calculators (e.g. [Planetcalc](https://planetcalc.com/3298/))<br>\n",
    "<br>\n",
    "Lastly, it's time to condense the new, iterative code. Let's make it a function, create some simple multi-command lines, remove extraneous print statements, etc:"
   ]
  },
  {
   "cell_type": "code",
   "execution_count": 22,
   "metadata": {},
   "outputs": [
    {
     "data": {
      "text/plain": [
       "(2, -29, 71)"
      ]
     },
     "execution_count": 22,
     "metadata": {},
     "output_type": "execute_result"
    }
   ],
   "source": [
    "# EGCD calculator, using Extended Euclidean Algorithm - by Simon Tharby, 2018\n",
    "\n",
    "def egcd(a, b):\n",
    "    count, floors = 0, []\n",
    "    while b % a != 0:\n",
    "        floors.append(b)\n",
    "        a, b = b% a, a\n",
    "        count += 1\n",
    "\n",
    "    floors.append(b)\n",
    "    g, s, t = abs(a), 0, 1\n",
    "    for i in range (0, len(floors) - 1):\n",
    "        s, t = t, s - ((floors[len(floors) - i - 2])  // (floors[len(floors) - i - 1])) * t\n",
    "    return g, t, s\n",
    "\n",
    "egcd(1180, 482)"
   ]
  },
  {
   "cell_type": "markdown",
   "metadata": {},
   "source": [
    "I find this iterative version easier to follow. If I did not know the math underlying it, I would find it easier to understand from this version, compared to the recursive version. I think it's also, generally, easier to write iterative code.<br>\n",
    "<br>\n",
    "I like the elegance of the recursive form, and I may well use it when I wish to reduce the number of lines of code. This would mainly be to reduce the amount of code 'on screen' in contexts where I don't want to be scrolling so much, or want others to focus on other sections of code. For any 'real-world' application, the iterative form is also more robust and fasterd.<br>\n",
    "<br>\n",
    "Understanding recursion has certainly developed my ability to follow and refactor such code, as well as explore the related math from a slightly different angle.<br>\n",
    "<br>\n",
    "To finish of this study, it might be nice to write a recursive version of my basic `gcd()` function, just to reinforce the ideas a little more (since I still find recursion tends to tie my brain in knots), and perhaps also to reafirm how confusing it is:"
   ]
  },
  {
   "cell_type": "markdown",
   "metadata": {},
   "source": [
    "TESTS of my iterative `egcd()`, versus the copied recursive EGCD, here named \"`egcd2()`\", with a mathematical check of the values produced:"
   ]
  },
  {
   "cell_type": "code",
   "execution_count": 1,
   "metadata": {},
   "outputs": [
    {
     "name": "stdout",
     "output_type": "stream",
     "text": [
      " egcd(): a: 4, b: 14, s: -3, t: 1, gcd: 2 --- correct\n",
      " egcd(): a: 14, b: 4, s: 1, t: -3, gcd: 2 --- correct\n",
      "\n",
      "egcd2(): a: 4, b: 14, s: -3, t: 1, gcd: 2 --- correct\n",
      "egcd2(): a: 14, b: 4, s: 1, t: -3, gcd: 2 --- correct\n",
      "------------------------------------------------------------------------------\n",
      " egcd(): a: 1180, b: 482, s: -29, t: 71, gcd: 2 --- correct\n",
      " egcd(): a: 482, b: 1180, s: 71, t: -29, gcd: 2 --- correct\n",
      "\n",
      "egcd2(): a: 1180, b: 482, s: -29, t: 71, gcd: 2 --- correct\n",
      "egcd2(): a: 482, b: 1180, s: 71, t: -29, gcd: 2 --- correct\n",
      "------------------------------------------------------------------------------\n",
      " egcd(): a: 9, b: 3, s: 0, t: 1, gcd: 3 --- correct\n",
      " egcd(): a: 3, b: 9, s: 1, t: 0, gcd: 3 --- correct\n",
      "\n",
      "egcd2(): a: 9, b: 3, s: 0, t: 1, gcd: 3 --- correct\n",
      "egcd2(): a: 3, b: 9, s: 1, t: 0, gcd: 3 --- correct\n",
      "------------------------------------------------------------------------------\n",
      " egcd(): a: 53, b: 777, s: 44, t: -3, gcd: 1 --- correct\n",
      " egcd(): a: 777, b: 53, s: -3, t: 44, gcd: 1 --- correct\n",
      "\n",
      "egcd2(): a: 53, b: 777, s: 44, t: -3, gcd: 1 --- correct\n",
      "egcd2(): a: 777, b: 53, s: -3, t: 44, gcd: 1 --- correct\n",
      "------------------------------------------------------------------------------\n"
     ]
    }
   ],
   "source": [
    "def check(a, b, g, s ,t):\n",
    "        if (a * s + b * t == g):\n",
    "            print(\"correct\")\n",
    "        elif (a * t + b * s == g):\n",
    "            print(\"ERROR! s AND t values are swapped; \", end='')\n",
    "            if a > b:\n",
    "                print(\"a > b\")\n",
    "            else:\n",
    "                print(\"a < b\")\n",
    "        else:\n",
    "            print(\"COMPLETELY SCREWED!\")\n",
    "    \n",
    "def test(e, f):\n",
    "    print(\" egcd(): \", end='')\n",
    "    g, s, t = egcd(e, f)\n",
    "    print(\"a: %d, b: %d, s: %d, t: %d, gcd: %d --- \" % (e, f, s, t, g), end='')\n",
    "    check(e, f, g, s ,t)\n",
    "    \n",
    "    print(\" egcd(): \", end='')\n",
    "    g, s, t = egcd(f, e)\n",
    "    print(\"a: %d, b: %d, s: %d, t: %d, gcd: %d --- \" % (f, e, s, t, g), end='')\n",
    "    check(f, e, g, s ,t)\n",
    "    \n",
    "    print()\n",
    "    \n",
    "    print(\"egcd2(): \", end='')\n",
    "    g, s, t = egcd2(e, f)\n",
    "    print(\"a: %d, b: %d, s: %d, t: %d, gcd: %d --- \" % (e, f, s, t, g), end='')\n",
    "    check(e, f, g, s ,t)\n",
    "    \n",
    "    print(\"egcd2(): \", end='')\n",
    "    g, s, t = egcd2(f, e)\n",
    "    print(\"a: %d, b: %d, s: %d, t: %d, gcd: %d --- \" % (f, e, s, t, g), end='')\n",
    "    check(f, e, g, s ,t)\n",
    "    \n",
    "    print(\"------------------------------------------------------------------------------\")\n",
    "\n",
    "def egcd(a, b):\n",
    "    count, floors = 0, []\n",
    "    while b % a != 0:\n",
    "        floors.append(b)\n",
    "        a, b = b% a, a\n",
    "        count += 1\n",
    "\n",
    "    floors.append(b)\n",
    "    g, s, t = abs(a), 0, 1\n",
    "    for i in range (0, len(floors) - 1):\n",
    "        s, t = t, s - ((floors[len(floors) - i - 2])  // (floors[len(floors) - i - 1])) * t\n",
    "    return g, t, s\n",
    "\n",
    "def egcd2(a, b):\n",
    "    if a == 0:\n",
    "        return (b, 0, 1)\n",
    "    else:\n",
    "        g, y, x = egcd2(b % a, a)  # <- this line contains the recursive call of the function itself\n",
    "        return (g, x - (b // a) * y, y)\n",
    "    \n",
    "test(4, 14)\n",
    "test(1180, 482)\n",
    "test(9,3)\n",
    "test(53, 777)"
   ]
  },
  {
   "cell_type": "code",
   "execution_count": null,
   "metadata": {
    "collapsed": true
   },
   "outputs": [],
   "source": []
  }
 ],
 "metadata": {
  "kernelspec": {
   "display_name": "Python 3",
   "language": "python",
   "name": "python3"
  },
  "language_info": {
   "codemirror_mode": {
    "name": "ipython",
    "version": 3
   },
   "file_extension": ".py",
   "mimetype": "text/x-python",
   "name": "python",
   "nbconvert_exporter": "python",
   "pygments_lexer": "ipython3",
   "version": "3.6.3"
  }
 },
 "nbformat": 4,
 "nbformat_minor": 2
}
