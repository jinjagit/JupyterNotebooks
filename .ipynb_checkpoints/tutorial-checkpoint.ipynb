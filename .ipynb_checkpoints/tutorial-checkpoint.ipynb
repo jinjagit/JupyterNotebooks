{
 "cells": [
  {
   "cell_type": "markdown",
   "metadata": {},
   "source": [
    "Tutorial on basics of Jupyter Notebook: [DataCamp Jupyeter Tutorial](https://www.datacamp.com/community/tutorials/tutorial-jupyter-notebook?utm_source=adwords_ppc&utm_campaignid=1001535064&utm_adgroupid=48949243189&utm_device=c&utm_keyword=&utm_matchtype=b&utm_network=g&utm_adpostion=1t1&utm_creative=236326164852&utm_targetid=dsa-379899700955&utm_loc_interest_ms=&utm_loc_physical_ms=1001773&gclid=CjwKCAiA-9rTBRBNEiwAt0Znw2Znh7HZTPwFpQ-S8cZJlHObiIxRLWjkFatqqCGQvxdmHnSp0ijP1RoCPh4QAvD_BwE)"
   ]
  }
 ],
 "metadata": {
  "kernelspec": {
   "display_name": "Python 3",
   "language": "python",
   "name": "python3"
  },
  "language_info": {
   "codemirror_mode": {
    "name": "ipython",
    "version": 3
   },
   "file_extension": ".py",
   "mimetype": "text/x-python",
   "name": "python",
   "nbconvert_exporter": "python",
   "pygments_lexer": "ipython3",
   "version": "3.6.3"
  }
 },
 "nbformat": 4,
 "nbformat_minor": 2
}
