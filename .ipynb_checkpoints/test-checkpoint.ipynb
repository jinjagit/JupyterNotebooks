{
 "cells": [
  {
   "cell_type": "markdown",
   "metadata": {},
   "source": [
    "This notebook was created using the Jupyter Notebook desktop install (free, open source).\n",
    "On GitHub, only a static version is shown\n",
    "In the Notebook app (and some other apps) it runs code, Python in this case, live in the notebook.\n",
    "To view a 'live' version, with executable code, go here: [TestLiveJupyterNotebookLink](https://mybinder.org/v2/gh/jinjagit/JupyterNotebooks/master?filepath=test.ipynb)\n",
    "Or, better still, install Jupyter, download the notebook(s), and run locally (faster, and probably less buggy).\n",
    "\n",
    "To run the code below, click on the cell that contains the code to highlight the cell (green), then click the \">| RUN\" button, above."
   ]
  },
  {
   "cell_type": "code",
   "execution_count": null,
   "metadata": {
    "collapsed": true,
    "scrolled": false
   },
   "outputs": [],
   "source": [
    "name = input(\"Please enter your name: \")\n",
    "print (\"Hello, %s, from jinja's first jupyter notebook!\" % name)"
   ]
  },
  {
   "cell_type": "markdown",
   "metadata": {},
   "source": [
    "![title](Pictures/testimage.png)"
   ]
  },
  {
   "cell_type": "markdown",
   "metadata": {},
   "source": [
    "Since this notebook effectively runs code in these cells, it can also include hyperlinks, animations, or almost any form of digital media imaginable, as well as being able to run the most popular math, charting, and data-science libraries.\n",
    "Check the website for more info: http://jupyter.org/"
   ]
  },
  {
   "cell_type": "code",
   "execution_count": null,
   "metadata": {},
   "outputs": [],
   "source": [
    "from IPython.display import display, Image, SVG, Math, YouTubeVideo\n",
    "\n",
    "SVG(filename='testdiag.svg')"
   ]
  },
  {
   "cell_type": "markdown",
   "metadata": {},
   "source": [
    "So, that kinda works. The heading was cropped when I used the default draw.io \"Heading\" text box. Works OK when replaced with basic text box, though."
   ]
  },
  {
   "cell_type": "code",
   "execution_count": null,
   "metadata": {},
   "outputs": [],
   "source": [
    "# from IPython.core.display import HTML\n",
    "HTML(''' <img src=testdiag.svg / > ''')"
   ]
  },
  {
   "cell_type": "markdown",
   "metadata": {},
   "source": [
    "<img src=testdiag.svg / >"
   ]
  },
  {
   "cell_type": "markdown",
   "metadata": {},
   "source": [
    "The above works in a markdown cell, and displays without needing to run the cell manually ;-)"
   ]
  }
 ],
 "metadata": {
  "kernelspec": {
   "display_name": "Python 3",
   "language": "python",
   "name": "python3"
  },
  "language_info": {
   "codemirror_mode": {
    "name": "ipython",
    "version": 3
   },
   "file_extension": ".py",
   "mimetype": "text/x-python",
   "name": "python",
   "nbconvert_exporter": "python",
   "pygments_lexer": "ipython3",
   "version": "3.6.3"
  }
 },
 "nbformat": 4,
 "nbformat_minor": 2
}
