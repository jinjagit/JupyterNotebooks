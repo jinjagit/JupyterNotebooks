{
 "cells": [
  {
   "cell_type": "code",
   "execution_count": 1,
   "metadata": {},
   "outputs": [
    {
     "name": "stdout",
     "output_type": "stream",
     "text": [
      "Enter 1st (non-zero) integer: 1180\n",
      "Enter 2nd (non-zero) integer: 482\n",
      "gcd: 2\n"
     ]
    }
   ],
   "source": [
    "# GCD calculator, using Euclidian Algorithm - by Simon Tharby 2018\n",
    "\n",
    "a = int(input(\"Enter 1st (non-zero) integer: \"))\n",
    "b = int(input(\"Enter 2nd (non-zero) integer: \"))\n",
    "\n",
    "def gcd(a, b):\n",
    "    if a > b: temp = a; a = b; b = temp\n",
    "    remainder = 1; prev_remainder = 1; count = 0; gcd = 0\n",
    "    while remainder != 0:\n",
    "        remainder = prev_remainder = b % a\n",
    "        if remainder == 0: gcd = prev_remainder\n",
    "        if (remainder == 0 & count == 0): gcd = a\n",
    "        b = a; a = remainder; count += 1\n",
    "    return abs(gcd)\n",
    "\n",
    "result = gcd(a, b)\n",
    "print(\"gcd: %d\" % result)"
   ]
  },
  {
   "cell_type": "markdown",
   "metadata": {},
   "source": [
    "The greatest common divisor (also known as greatest common factor, highest common divisor or highest common factor) of a set of numbers is the largest\n",
    "positive integer number that devides all the numbers in the set without remainder. It is the biggest multiple of all numbers in the set."
   ]
  },
  {
   "cell_type": "code",
   "execution_count": 10,
   "metadata": {},
   "outputs": [
    {
     "name": "stdout",
     "output_type": "stream",
     "text": [
      "a = 1180\n",
      "a = 482\n",
      "a = 216\n",
      "a = 50\n",
      "a = 16\n",
      "a = 2\n",
      "\n",
      "intermediate: g = 2, s = 1, t = 0\n",
      "\n",
      "intermediate: g = 2, s = 0, t = 1\n",
      "\n",
      "intermediate: g = 2, s = 1, t = -3\n",
      "\n",
      "intermediate: g = 2, s = -3, t = 13\n",
      "\n",
      "intermediate: g = 2, s = 13, t = -29\n",
      "\n",
      "intermediate: g = 2, s = -29, t = 71\n",
      "\n",
      "final result: g = 2, s = -29, t = 71\n"
     ]
    }
   ],
   "source": [
    "# GCD calculator, using Extended Euclidian Algorithm - by Simon Tharby 2018\n",
    "# Finds gcd, s and t in Bezout's Theorem; as + bt = gcd {a, b}, given a and b\n",
    "\n",
    "def egcd(a, b):\n",
    "    if a == 0:\n",
    "        return (b, 0, 1)\n",
    "    else:\n",
    "        print(\"a = %d\" % a)\n",
    "        \n",
    "        g, t, s = egcd(b % a, a)\n",
    "        \n",
    "        print(\"\\nintermediate: g = %d, s = %d, t = %d\" % (g, s, t))\n",
    "        \n",
    "        return (g, s - (b // a) * t, t)\n",
    "\n",
    "g, s, t = egcd(1180, 482)\n",
    "print(\"\\nfinal result: g = %d, s = %d, t = %d\" % (g, s, t))"
   ]
  },
  {
   "cell_type": "markdown",
   "metadata": {},
   "source": [
    "So, I get that egcd() is recursive (obviously) and that it calls itself, but how does it get 6 values of a (in the example qith inputs a =1180, b = 482) _before_ recursively calling egcd within egcd, and how does it 'know' to do this 6 times before returning result(s)?<br>\n",
    "<br>\n",
    "\"Termination condition:\n",
    "A recursive function has to terminate to be used in a program. A recursive function terminates, if with every recursive call the solution of the problem is downsized and moves towards a base case. A base case is a case, where the problem can be solved without further recursion. A recursion can lead to an infinite loop, if the base case is not met in the calls. \n",
    "\n",
    "Example:<br>\n",
    "$4! = 4\\cdot3!$<br>\n",
    "$3! = 3\\cdot2!$<br>\n",
    "$2! = 2\\cdot1$<br> \n",
    "Replacing the calculated values gives us the following expression: $4! = 4\\cdot3\\cdot2\\cdot1$\n",
    "\n",
    "Generally we can say: Recursion in computer science is a method where the solution to a problem is based on solving smaller instances of the same problem.\"\n",
    "\n",
    "OK, but I still don't get how the def 'knows' what the 'base case' is, and when it is met (and then returns result(s))."
   ]
  },
  {
   "cell_type": "code",
   "execution_count": 12,
   "metadata": {},
   "outputs": [
    {
     "name": "stdout",
     "output_type": "stream",
     "text": [
      "factorial has been called with n = 4\n",
      "factorial has been called with n = 3\n",
      "factorial has been called with n = 2\n",
      "factorial has been called with n = 1\n",
      "intermediate result for  2  * factorial( 1 ):  2\n",
      "intermediate result for  3  * factorial( 2 ):  6\n",
      "intermediate result for  4  * factorial( 3 ):  24\n",
      "24\n"
     ]
    }
   ],
   "source": [
    "def factorial(n):\n",
    "    \n",
    "    print(\"factorial has been called with n = \" + str(n))\n",
    "    \n",
    "    if n == 1:\n",
    "        return 1\n",
    "    else:\n",
    "        res = n * factorial(n-1)\n",
    "        \n",
    "        print(\"intermediate result for \", n, \" * factorial(\" ,n-1, \"): \",res)\n",
    "        \n",
    "        return res\n",
    "\n",
    "print(factorial(4))"
   ]
  },
  {
   "cell_type": "markdown",
   "metadata": {},
   "source": [
    "OK,  I'm beggining to get it, I think...\n",
    "\n",
    "iteration 1: n = 4, so 'if' is false, so 'else' calls factorial(n-1) = factorial(3), and 'stores' res = 4 * factorial(3) = 24<br>\n",
    "iteration 2: n = 3, so 'if' is false, so 'else' calls factorial(n-1) = factorial(2), and 'stores' res = 3 * factrorial(2) = 6<br>\n",
    "iteration 3: n = 2, so 'if' is false, so 'else' calls factorial(n-1) = factorial(1), and 'stores' res = 2 * factrorial(1) = 2<br>\n",
    "iteration 4: n = 1, so '1' is returned to factorial(), which somehow means it 'knows' to stop and return result of the last run of factorial() in the else statement<br>\n",
    "\n",
    "OK, but why do the iterations show up in the reverse order? And how does returning '1' to factorial() get it to return the result of the first iteration?\n",
    "\n",
    "It's effectively doing this:"
   ]
  },
  {
   "cell_type": "code",
   "execution_count": 26,
   "metadata": {},
   "outputs": [
    {
     "name": "stdout",
     "output_type": "stream",
     "text": [
      "i = 0\n",
      "i = 1\n",
      "i = 2\n",
      "24\n"
     ]
    }
   ],
   "source": [
    "# Iterative loop version A\n",
    "def factorial(n):\n",
    "    factor = n\n",
    "    res = n\n",
    "    for i in range (0, n - 1): # i will be 0, 1, 2, (but not n-1 = 3, as it will exit the loop wehen this is true)\n",
    "        factor = factor - 1 # factor will be 3, 2, 1\n",
    "        res = factor * res\n",
    "    return res\n",
    "\n",
    "print(factorial(4))"
   ]
  },
  {
   "cell_type": "markdown",
   "metadata": {},
   "source": [
    "Which is equivalent to:"
   ]
  },
  {
   "cell_type": "code",
   "execution_count": 25,
   "metadata": {},
   "outputs": [
    {
     "name": "stdout",
     "output_type": "stream",
     "text": [
      "i = 2\n",
      "i = 3\n",
      "i = 4\n",
      "24\n"
     ]
    }
   ],
   "source": [
    "# Iterative loop version B\n",
    "def factorial(n):\n",
    "    result = 1\n",
    "    for i in range(2,n+1):  # i will be 2, 3, 4, (but not n+1 = 5, as it will exit the loop wehen this is true)\n",
    "        result *= i\n",
    "    return result\n",
    "\n",
    "print(factorial(4))"
   ]
  },
  {
   "cell_type": "markdown",
   "metadata": {},
   "source": [
    "The difference is that in the second version the iteration occurs in the reverse direction."
   ]
  },
  {
   "cell_type": "code",
   "execution_count": 11,
   "metadata": {},
   "outputs": [
    {
     "name": "stdout",
     "output_type": "stream",
     "text": [
      "24\n"
     ]
    }
   ],
   "source": [
    "def factorial(n):\n",
    "    if n == 1:\n",
    "        return 1\n",
    "    else:\n",
    "        return n * factorial(n-1) # So this acts like a loop, running factorial with descending values of n; n = n-1, n-2, n-3, until n ==1\n",
    "    \n",
    "print(factorial(4))"
   ]
  },
  {
   "cell_type": "code",
   "execution_count": null,
   "metadata": {
    "collapsed": true
   },
   "outputs": [],
   "source": []
  }
 ],
 "metadata": {
  "kernelspec": {
   "display_name": "Python 3",
   "language": "python",
   "name": "python3"
  },
  "language_info": {
   "codemirror_mode": {
    "name": "ipython",
    "version": 3
   },
   "file_extension": ".py",
   "mimetype": "text/x-python",
   "name": "python",
   "nbconvert_exporter": "python",
   "pygments_lexer": "ipython3",
   "version": "3.6.3"
  }
 },
 "nbformat": 4,
 "nbformat_minor": 2
}
