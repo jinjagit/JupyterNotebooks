{
 "cells": [
  {
   "cell_type": "code",
   "execution_count": 35,
   "metadata": {},
   "outputs": [
    {
     "name": "stdout",
     "output_type": "stream",
     "text": [
      "Enter 1st integer: 1024\n",
      "Enter 2nd integer: -16\n",
      "result: 16\n"
     ]
    }
   ],
   "source": [
    "# GCD calculator, using Euclidian Algorithm - by Simon Tharby 2018\n",
    "\n",
    "import numpy as np\n",
    "\n",
    "a = int(input(\"Enter 1st integer: \"))\n",
    "b = int(input(\"Enter 2nd integer: \"))\n",
    "\n",
    "def gcd(a, b):\n",
    "    remainder = 1; prev_remainder = 1; count = 0; gcd = 0\n",
    "    while remainder != 0:\n",
    "        if a > b: temp = a; a = b; b = temp\n",
    "        remainder = b % a\n",
    "        if (remainder == 0 & count == 0): prev_remainder = a\n",
    "        if remainder == 0: gcd = prev_remainder\n",
    "        if gcd < 0: gcd = gcd * -1\n",
    "        else: prev_remainder = remainder\n",
    "        b = a; a = remainder; count = count + 1\n",
    "    return gcd\n",
    "\n",
    "result = gcd(a, b)\n",
    "print(\"result: %d\" % result)"
   ]
  },
  {
   "cell_type": "markdown",
   "metadata": {},
   "source": [
    "The greatest common divisor (also known as greatest common factor, highest common divisor or highest common factor) of a set of numbers is the largest\n",
    "positive integer number that devides all the numbers in the set without remainder. It is the biggest multiple of all numbers in the set."
   ]
  }
 ],
 "metadata": {
  "kernelspec": {
   "display_name": "Python 3",
   "language": "python",
   "name": "python3"
  },
  "language_info": {
   "codemirror_mode": {
    "name": "ipython",
    "version": 3
   },
   "file_extension": ".py",
   "mimetype": "text/x-python",
   "name": "python",
   "nbconvert_exporter": "python",
   "pygments_lexer": "ipython3",
   "version": "3.6.3"
  }
 },
 "nbformat": 4,
 "nbformat_minor": 2
}
