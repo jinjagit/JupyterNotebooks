{
 "cells": [
  {
   "cell_type": "markdown",
   "metadata": {},
   "source": [
    "Example from: https://stackoverflow.com/questions/43971138/python-plotting-colored-grid-based-on-values"
   ]
  },
  {
   "cell_type": "code",
   "execution_count": 48,
   "metadata": {},
   "outputs": [
    {
     "data": {
      "image/png": "[encoded data removed]",
      "text/plain": [
       "<matplotlib.figure.Figure at 0x1cef9b0dd30>"
      ]
     },
     "metadata": {},
     "output_type": "display_data"
    }
   ],
   "source": [
    "import matplotlib.pyplot as plt\n",
    "from matplotlib import colors\n",
    "import numpy as np\n",
    "\n",
    "data = np.random.rand(10, 10) * 20\n",
    "\n",
    "# create discrete colormap\n",
    "cmap = colors.ListedColormap(['red', 'blue'])\n",
    "bounds = [0,10,20]\n",
    "norm = colors.BoundaryNorm(bounds, cmap.N)\n",
    "\n",
    "fig, ax = plt.subplots()\n",
    "ax.imshow(data, cmap=cmap, norm=norm)\n",
    "\n",
    "# draw gridlines\n",
    "ax.grid(which='major', axis='both', linestyle='-', color='k', linewidth=2)\n",
    "ax.set_xticks(np.arange(-.5, 10, 1));\n",
    "ax.set_yticks(np.arange(-.5, 10, 1));\n",
    "'''\n",
    "cur_axes = plt.gca()  # This line ...\n",
    "cur_axes.axes.get_xaxis().set_ticklabels([])  # ... + these 2 lines = no axes labels\n",
    "cur_axes.axes.get_yaxis().set_ticklabels([])\n",
    "cur_axes.axes.get_xaxis().set_ticks([])  # ... + these 2 lines = no axes ticks\n",
    "cur_axes.axes.get_yaxis().set_ticks([])\n",
    "'''\n",
    "# plt.axis('off')  # Hides axes labels, ticks, grid border AND gridlines\n",
    "\n",
    "plt.show()"
   ]
  },
  {
   "cell_type": "markdown",
   "metadata": {},
   "source": [
    "Gallery of available matplotlib colors: https://matplotlib.org/gallery/color/named_colors.html#sphx-glr-gallery-color-named-colors-py"
   ]
  },
  {
   "cell_type": "code",
   "execution_count": null,
   "metadata": {
    "collapsed": true
   },
   "outputs": [],
   "source": []
  }
 ],
 "metadata": {
  "kernelspec": {
   "display_name": "Python 3",
   "language": "python",
   "name": "python3"
  },
  "language_info": {
   "codemirror_mode": {
    "name": "ipython",
    "version": 3
   },
   "file_extension": ".py",
   "mimetype": "text/x-python",
   "name": "python",
   "nbconvert_exporter": "python",
   "pygments_lexer": "ipython3",
   "version": "3.6.3"
  }
 },
 "nbformat": 4,
 "nbformat_minor": 2
}
